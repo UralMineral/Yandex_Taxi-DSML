{
 "cells": [
  {
   "cell_type": "code",
   "execution_count": 1,
   "id": "c52b26c0",
   "metadata": {
    "ExecuteTime": {
     "end_time": "2024-04-24T14:09:47.610125Z",
     "start_time": "2024-04-24T14:09:46.173146Z"
    }
   },
   "outputs": [],
   "source": [
    "import os\n",
    "from pathlib import Path\n",
    "import warnings\n",
    "warnings.filterwarnings(\"ignore\")\n",
    "\n",
    "import numpy as np\n",
    "import pandas as pd\n",
    "import statsmodels.api as sm\n",
    "from scipy import stats\n",
    "\n",
    "import matplotlib.pyplot as plt\n",
    "%config InlineBackend.figure_format = 'retina'"
   ]
  },
  {
   "cell_type": "code",
   "execution_count": 2,
   "id": "c4a1a0ad",
   "metadata": {
    "ExecuteTime": {
     "end_time": "2024-04-24T14:09:47.664274Z",
     "start_time": "2024-04-24T14:09:47.615268Z"
    }
   },
   "outputs": [
    {
     "data": {
      "text/html": [
       "<div>\n",
       "<style scoped>\n",
       "    .dataframe tbody tr th:only-of-type {\n",
       "        vertical-align: middle;\n",
       "    }\n",
       "\n",
       "    .dataframe tbody tr th {\n",
       "        vertical-align: top;\n",
       "    }\n",
       "\n",
       "    .dataframe thead th {\n",
       "        text-align: right;\n",
       "    }\n",
       "</style>\n",
       "<table border=\"1\" class=\"dataframe\">\n",
       "  <thead>\n",
       "    <tr style=\"text-align: right;\">\n",
       "      <th></th>\n",
       "      <th>created_at_utc</th>\n",
       "      <th>tariff_class</th>\n",
       "      <th>tariff_internal_name</th>\n",
       "      <th>status</th>\n",
       "      <th>taxi_status</th>\n",
       "      <th>vehicle_model</th>\n",
       "      <th>vehicle_color</th>\n",
       "      <th>vehicle_car_region</th>\n",
       "      <th>payment_cost</th>\n",
       "      <th>payment_currency_code</th>\n",
       "      <th>driver_call_model</th>\n",
       "    </tr>\n",
       "  </thead>\n",
       "  <tbody>\n",
       "    <tr>\n",
       "      <th>0</th>\n",
       "      <td>1622145491</td>\n",
       "      <td>Эконом</td>\n",
       "      <td>econom</td>\n",
       "      <td>cancelled</td>\n",
       "      <td>waiting</td>\n",
       "      <td>Kia Rio</td>\n",
       "      <td>белый</td>\n",
       "      <td>34</td>\n",
       "      <td>52.00</td>\n",
       "      <td>RUB</td>\n",
       "      <td>no_call</td>\n",
       "    </tr>\n",
       "    <tr>\n",
       "      <th>1</th>\n",
       "      <td>1622145422</td>\n",
       "      <td>Эконом</td>\n",
       "      <td>econom</td>\n",
       "      <td>cancelled</td>\n",
       "      <td>driving</td>\n",
       "      <td>LADA (ВАЗ) Granta</td>\n",
       "      <td>серый</td>\n",
       "      <td>34</td>\n",
       "      <td>0.00</td>\n",
       "      <td>RUB</td>\n",
       "      <td>no_call</td>\n",
       "    </tr>\n",
       "    <tr>\n",
       "      <th>2</th>\n",
       "      <td>1622145212</td>\n",
       "      <td>Эконом</td>\n",
       "      <td>econom</td>\n",
       "      <td>finished</td>\n",
       "      <td>complete</td>\n",
       "      <td>Renault Logan</td>\n",
       "      <td>белый</td>\n",
       "      <td>34</td>\n",
       "      <td>104.70</td>\n",
       "      <td>RUB</td>\n",
       "      <td>on_demand</td>\n",
       "    </tr>\n",
       "    <tr>\n",
       "      <th>3</th>\n",
       "      <td>1622054615</td>\n",
       "      <td>Эконом</td>\n",
       "      <td>econom</td>\n",
       "      <td>finished</td>\n",
       "      <td>complete</td>\n",
       "      <td>LADA (ВАЗ) Granta</td>\n",
       "      <td>белый</td>\n",
       "      <td>34</td>\n",
       "      <td>120.00</td>\n",
       "      <td>RUB</td>\n",
       "      <td>on_demand</td>\n",
       "    </tr>\n",
       "    <tr>\n",
       "      <th>4</th>\n",
       "      <td>1622045036</td>\n",
       "      <td>Эконом</td>\n",
       "      <td>econom</td>\n",
       "      <td>finished</td>\n",
       "      <td>complete</td>\n",
       "      <td>LADA (ВАЗ) Granta</td>\n",
       "      <td>белый</td>\n",
       "      <td>34</td>\n",
       "      <td>115.50</td>\n",
       "      <td>RUB</td>\n",
       "      <td>on_demand</td>\n",
       "    </tr>\n",
       "    <tr>\n",
       "      <th>...</th>\n",
       "      <td>...</td>\n",
       "      <td>...</td>\n",
       "      <td>...</td>\n",
       "      <td>...</td>\n",
       "      <td>...</td>\n",
       "      <td>...</td>\n",
       "      <td>...</td>\n",
       "      <td>...</td>\n",
       "      <td>...</td>\n",
       "      <td>...</td>\n",
       "      <td>...</td>\n",
       "    </tr>\n",
       "    <tr>\n",
       "      <th>1200</th>\n",
       "      <td>1617028952</td>\n",
       "      <td>Эконом</td>\n",
       "      <td>econom</td>\n",
       "      <td>finished</td>\n",
       "      <td>complete</td>\n",
       "      <td>LADA (ВАЗ) Largus</td>\n",
       "      <td>белый</td>\n",
       "      <td>34</td>\n",
       "      <td>472.40</td>\n",
       "      <td>RUB</td>\n",
       "      <td>no_call</td>\n",
       "    </tr>\n",
       "    <tr>\n",
       "      <th>1201</th>\n",
       "      <td>1617028458</td>\n",
       "      <td>Эконом</td>\n",
       "      <td>econom</td>\n",
       "      <td>cancelled</td>\n",
       "      <td>driving</td>\n",
       "      <td>LADA (ВАЗ) Granta</td>\n",
       "      <td>белый</td>\n",
       "      <td>34</td>\n",
       "      <td>0.00</td>\n",
       "      <td>RUB</td>\n",
       "      <td>no_call</td>\n",
       "    </tr>\n",
       "    <tr>\n",
       "      <th>1202</th>\n",
       "      <td>1617025078</td>\n",
       "      <td>Эконом</td>\n",
       "      <td>econom</td>\n",
       "      <td>finished</td>\n",
       "      <td>complete</td>\n",
       "      <td>LADA (ВАЗ) Granta</td>\n",
       "      <td>серый</td>\n",
       "      <td>34</td>\n",
       "      <td>146.85</td>\n",
       "      <td>RUB</td>\n",
       "      <td>no_call</td>\n",
       "    </tr>\n",
       "    <tr>\n",
       "      <th>1203</th>\n",
       "      <td>1616869125</td>\n",
       "      <td>Эконом</td>\n",
       "      <td>econom</td>\n",
       "      <td>cancelled</td>\n",
       "      <td>driving</td>\n",
       "      <td>LADA (ВАЗ) Largus</td>\n",
       "      <td>серый</td>\n",
       "      <td>34</td>\n",
       "      <td>0.00</td>\n",
       "      <td>RUB</td>\n",
       "      <td>no_call</td>\n",
       "    </tr>\n",
       "    <tr>\n",
       "      <th>1204</th>\n",
       "      <td>1616844024</td>\n",
       "      <td>Эконом</td>\n",
       "      <td>econom</td>\n",
       "      <td>finished</td>\n",
       "      <td>complete</td>\n",
       "      <td>Volkswagen Polo</td>\n",
       "      <td>жёлтый</td>\n",
       "      <td>34</td>\n",
       "      <td>600.00</td>\n",
       "      <td>RUB</td>\n",
       "      <td>no_call</td>\n",
       "    </tr>\n",
       "  </tbody>\n",
       "</table>\n",
       "<p>1205 rows × 11 columns</p>\n",
       "</div>"
      ],
      "text/plain": [
       "      created_at_utc tariff_class tariff_internal_name     status taxi_status  \\\n",
       "0         1622145491       Эконом               econom  cancelled     waiting   \n",
       "1         1622145422       Эконом               econom  cancelled     driving   \n",
       "2         1622145212       Эконом               econom   finished    complete   \n",
       "3         1622054615       Эконом               econom   finished    complete   \n",
       "4         1622045036       Эконом               econom   finished    complete   \n",
       "...              ...          ...                  ...        ...         ...   \n",
       "1200      1617028952       Эконом               econom   finished    complete   \n",
       "1201      1617028458       Эконом               econom  cancelled     driving   \n",
       "1202      1617025078       Эконом               econom   finished    complete   \n",
       "1203      1616869125       Эконом               econom  cancelled     driving   \n",
       "1204      1616844024       Эконом               econom   finished    complete   \n",
       "\n",
       "          vehicle_model vehicle_color  vehicle_car_region  payment_cost  \\\n",
       "0               Kia Rio         белый                  34         52.00   \n",
       "1     LADA (ВАЗ) Granta         серый                  34          0.00   \n",
       "2         Renault Logan         белый                  34        104.70   \n",
       "3     LADA (ВАЗ) Granta         белый                  34        120.00   \n",
       "4     LADA (ВАЗ) Granta         белый                  34        115.50   \n",
       "...                 ...           ...                 ...           ...   \n",
       "1200  LADA (ВАЗ) Largus         белый                  34        472.40   \n",
       "1201  LADA (ВАЗ) Granta         белый                  34          0.00   \n",
       "1202  LADA (ВАЗ) Granta         серый                  34        146.85   \n",
       "1203  LADA (ВАЗ) Largus         серый                  34          0.00   \n",
       "1204    Volkswagen Polo        жёлтый                  34        600.00   \n",
       "\n",
       "     payment_currency_code driver_call_model  \n",
       "0                      RUB           no_call  \n",
       "1                      RUB           no_call  \n",
       "2                      RUB         on_demand  \n",
       "3                      RUB         on_demand  \n",
       "4                      RUB         on_demand  \n",
       "...                    ...               ...  \n",
       "1200                   RUB           no_call  \n",
       "1201                   RUB           no_call  \n",
       "1202                   RUB           no_call  \n",
       "1203                   RUB           no_call  \n",
       "1204                   RUB           no_call  \n",
       "\n",
       "[1205 rows x 11 columns]"
      ]
     },
     "execution_count": 2,
     "metadata": {},
     "output_type": "execute_result"
    }
   ],
   "source": [
    "df = pd.read_csv(\"orders.csv\")\n",
    "df"
   ]
  },
  {
   "cell_type": "code",
   "execution_count": 3,
   "id": "19df7649",
   "metadata": {
    "ExecuteTime": {
     "end_time": "2024-04-24T14:09:47.692801Z",
     "start_time": "2024-04-24T14:09:47.672764Z"
    }
   },
   "outputs": [],
   "source": [
    "df = pd.read_csv(\"orders.csv\")\n",
    "df = df.loc[df['payment_cost']!=0]\n",
    "df = df.dropna()"
   ]
  },
  {
   "cell_type": "code",
   "execution_count": 4,
   "id": "75b4b576",
   "metadata": {
    "ExecuteTime": {
     "end_time": "2024-04-24T14:09:47.711842Z",
     "start_time": "2024-04-24T14:09:47.697943Z"
    }
   },
   "outputs": [],
   "source": [
    "#Turned out to be easier to predict if deveided to classes like Econom or Comfort.\n",
    "df = df.loc[df.tariff_internal_name == 'econom']"
   ]
  },
  {
   "cell_type": "code",
   "execution_count": 5,
   "id": "21d8d984",
   "metadata": {
    "ExecuteTime": {
     "end_time": "2024-04-24T14:09:47.783502Z",
     "start_time": "2024-04-24T14:09:47.717505Z"
    }
   },
   "outputs": [
    {
     "data": {
      "text/html": [
       "<div>\n",
       "<style scoped>\n",
       "    .dataframe tbody tr th:only-of-type {\n",
       "        vertical-align: middle;\n",
       "    }\n",
       "\n",
       "    .dataframe tbody tr th {\n",
       "        vertical-align: top;\n",
       "    }\n",
       "\n",
       "    .dataframe thead th {\n",
       "        text-align: right;\n",
       "    }\n",
       "</style>\n",
       "<table border=\"1\" class=\"dataframe\">\n",
       "  <thead>\n",
       "    <tr style=\"text-align: right;\">\n",
       "      <th></th>\n",
       "      <th>payment_cost</th>\n",
       "    </tr>\n",
       "    <tr>\n",
       "      <th>created_at_utc</th>\n",
       "      <th></th>\n",
       "    </tr>\n",
       "  </thead>\n",
       "  <tbody>\n",
       "    <tr>\n",
       "      <th>2017-09-30</th>\n",
       "      <td>78.775000</td>\n",
       "    </tr>\n",
       "    <tr>\n",
       "      <th>2017-10-18</th>\n",
       "      <td>438.150000</td>\n",
       "    </tr>\n",
       "    <tr>\n",
       "      <th>2017-10-19</th>\n",
       "      <td>425.500000</td>\n",
       "    </tr>\n",
       "    <tr>\n",
       "      <th>2017-10-27</th>\n",
       "      <td>98.325000</td>\n",
       "    </tr>\n",
       "    <tr>\n",
       "      <th>2017-11-02</th>\n",
       "      <td>96.025000</td>\n",
       "    </tr>\n",
       "    <tr>\n",
       "      <th>...</th>\n",
       "      <td>...</td>\n",
       "    </tr>\n",
       "    <tr>\n",
       "      <th>2021-05-23</th>\n",
       "      <td>555.225000</td>\n",
       "    </tr>\n",
       "    <tr>\n",
       "      <th>2021-05-24</th>\n",
       "      <td>73.450000</td>\n",
       "    </tr>\n",
       "    <tr>\n",
       "      <th>2021-05-25</th>\n",
       "      <td>435.683333</td>\n",
       "    </tr>\n",
       "    <tr>\n",
       "      <th>2021-05-26</th>\n",
       "      <td>195.275000</td>\n",
       "    </tr>\n",
       "    <tr>\n",
       "      <th>2021-05-27</th>\n",
       "      <td>78.350000</td>\n",
       "    </tr>\n",
       "  </tbody>\n",
       "</table>\n",
       "<p>315 rows × 1 columns</p>\n",
       "</div>"
      ],
      "text/plain": [
       "                payment_cost\n",
       "created_at_utc              \n",
       "2017-09-30         78.775000\n",
       "2017-10-18        438.150000\n",
       "2017-10-19        425.500000\n",
       "2017-10-27         98.325000\n",
       "2017-11-02         96.025000\n",
       "...                      ...\n",
       "2021-05-23        555.225000\n",
       "2021-05-24         73.450000\n",
       "2021-05-25        435.683333\n",
       "2021-05-26        195.275000\n",
       "2021-05-27         78.350000\n",
       "\n",
       "[315 rows x 1 columns]"
      ]
     },
     "execution_count": 5,
     "metadata": {},
     "output_type": "execute_result"
    }
   ],
   "source": [
    "#Converting to date-time\n",
    "df = df[['created_at_utc','payment_cost']]\n",
    "df['created_at_utc'] = pd.to_datetime(df.created_at_utc, unit='s')\n",
    "df['created_at_utc'] = df['created_at_utc'].dt.date\n",
    "df = df.groupby('created_at_utc').payment_cost.mean()\n",
    "df = df.reset_index()\n",
    "df.sort_values(by=['created_at_utc'], inplace=True)\n",
    "df.set_index('created_at_utc', inplace=True)\n",
    "\n",
    "df"
   ]
  },
  {
   "cell_type": "markdown",
   "id": "3649d509",
   "metadata": {
    "ExecuteTime": {
     "end_time": "2024-04-24T12:14:51.487005Z",
     "start_time": "2024-04-24T12:14:51.481864Z"
    }
   },
   "source": [
    "## Visual analysis"
   ]
  },
  {
   "cell_type": "code",
   "execution_count": 6,
   "id": "844df1d1",
   "metadata": {
    "ExecuteTime": {
     "end_time": "2024-04-24T14:09:48.002640Z",
     "start_time": "2024-04-24T14:09:47.787672Z"
    }
   },
   "outputs": [
    {
     "data": {
      "text/html": [
       "        <script type=\"text/javascript\">\n",
       "        window.PlotlyConfig = {MathJaxConfig: 'local'};\n",
       "        if (window.MathJax && window.MathJax.Hub && window.MathJax.Hub.Config) {window.MathJax.Hub.Config({SVG: {font: \"STIX-Web\"}});}\n",
       "        if (typeof require !== 'undefined') {\n",
       "        require.undef(\"plotly\");\n",
       "        requirejs.config({\n",
       "            paths: {\n",
       "                'plotly': ['https://cdn.plot.ly/plotly-2.30.0.min']\n",
       "            }\n",
       "        });\n",
       "        require(['plotly'], function(Plotly) {\n",
       "            window._Plotly = Plotly;\n",
       "        });\n",
       "        }\n",
       "        </script>\n",
       "        "
      ]
     },
     "metadata": {},
     "output_type": "display_data"
    }
   ],
   "source": [
    "from plotly import graph_objs as go\n",
    "from plotly.offline import init_notebook_mode, iplot, plot\n",
    "from IPython.display import display, IFrame\n",
    "\n",
    "# Initialize plotly\n",
    "init_notebook_mode(connected=True)"
   ]
  },
  {
   "cell_type": "code",
   "execution_count": 7,
   "id": "e9739987",
   "metadata": {
    "ExecuteTime": {
     "end_time": "2024-04-24T14:09:48.018149Z",
     "start_time": "2024-04-24T14:09:48.007454Z"
    }
   },
   "outputs": [],
   "source": [
    "def plotly_df(df, title=\"\", width=800, height=500):\n",
    "    try:\n",
    "        \"\"\"Visualize all the dataframe columns as line plots.\"\"\"\n",
    "        common_kw = dict(x=df.index, mode=\"lines\")\n",
    "        data = [go.Scatter(y=df[c], name=c, **common_kw) for c in df.columns]\n",
    "        layout = dict(title=title)\n",
    "        fig = dict(data=data, layout=layout)\n",
    "\n",
    "        iplot(fig, show_link=False)\n",
    "        \n",
    "        #plot_path = f\"../../_static/plotly_htmls/{title}.html\".replace(\" \", \"_\")\n",
    "        plot(fig, filename=plot_path, show_link=False, auto_open=False);\n",
    "        #display(IFrame(plot_path, width=width, height=height))\n",
    "        #For ignoring error messages.\n",
    "    except:\n",
    "        pass"
   ]
  },
  {
   "cell_type": "code",
   "execution_count": 8,
   "id": "127a39aa",
   "metadata": {
    "ExecuteTime": {
     "end_time": "2024-04-24T14:09:48.390415Z",
     "start_time": "2024-04-24T14:09:48.022602Z"
    }
   },
   "outputs": [
    {
     "data": {
      "application/vnd.plotly.v1+json": {
       "config": {
        "linkText": "Export to plot.ly",
        "plotlyServerURL": "https://plot.ly",
        "showLink": false
       },
       "data": [
        {
         "mode": "lines",
         "name": "payment_cost",
         "type": "scatter",
         "x": [
          "2017-09-30",
          "2017-10-18",
          "2017-10-19",
          "2017-10-27",
          "2017-11-02",
          "2017-11-18",
          "2017-11-23",
          "2017-12-01",
          "2017-12-04",
          "2017-12-13",
          "2017-12-19",
          "2017-12-23",
          "2017-12-25",
          "2017-12-30",
          "2018-01-09",
          "2018-01-13",
          "2018-02-04",
          "2018-02-05",
          "2018-02-10",
          "2018-02-12",
          "2018-02-17",
          "2018-02-20",
          "2018-02-21",
          "2018-03-03",
          "2018-03-06",
          "2018-03-08",
          "2018-03-12",
          "2018-03-17",
          "2018-03-24",
          "2018-03-27",
          "2018-04-11",
          "2018-04-15",
          "2018-06-18",
          "2018-06-19",
          "2018-06-22",
          "2018-06-24",
          "2018-06-27",
          "2018-07-02",
          "2018-07-13",
          "2018-07-19",
          "2018-07-24",
          "2018-07-28",
          "2018-07-29",
          "2018-08-03",
          "2018-08-05",
          "2018-08-07",
          "2018-08-09",
          "2018-08-15",
          "2018-08-18",
          "2018-08-23",
          "2018-08-26",
          "2018-09-12",
          "2018-09-13",
          "2018-09-22",
          "2018-10-14",
          "2018-11-03",
          "2018-12-28",
          "2018-12-30",
          "2019-01-05",
          "2019-01-22",
          "2019-01-24",
          "2019-01-25",
          "2019-03-07",
          "2019-05-07",
          "2019-05-12",
          "2019-06-10",
          "2019-06-12",
          "2019-07-05",
          "2019-07-06",
          "2019-07-07",
          "2019-08-07",
          "2019-08-08",
          "2019-08-09",
          "2019-08-10",
          "2019-08-12",
          "2019-08-22",
          "2019-08-26",
          "2019-08-27",
          "2019-08-31",
          "2019-09-01",
          "2019-09-06",
          "2019-09-07",
          "2019-09-08",
          "2019-09-09",
          "2019-09-13",
          "2019-09-15",
          "2019-10-05",
          "2019-10-06",
          "2019-10-11",
          "2019-10-13",
          "2019-10-25",
          "2019-11-05",
          "2019-11-24",
          "2019-11-27",
          "2019-11-30",
          "2019-12-07",
          "2019-12-11",
          "2019-12-20",
          "2019-12-25",
          "2019-12-28",
          "2020-01-01",
          "2020-01-02",
          "2020-01-07",
          "2020-01-08",
          "2020-01-11",
          "2020-01-19",
          "2020-01-23",
          "2020-01-24",
          "2020-01-25",
          "2020-01-26",
          "2020-01-28",
          "2020-02-01",
          "2020-02-03",
          "2020-02-06",
          "2020-02-07",
          "2020-02-09",
          "2020-02-13",
          "2020-02-17",
          "2020-02-18",
          "2020-02-21",
          "2020-02-22",
          "2020-02-23",
          "2020-02-25",
          "2020-02-26",
          "2020-02-27",
          "2020-02-28",
          "2020-03-01",
          "2020-03-03",
          "2020-03-05",
          "2020-03-11",
          "2020-03-17",
          "2020-03-21",
          "2020-03-22",
          "2020-03-28",
          "2020-03-29",
          "2020-03-30",
          "2020-04-10",
          "2020-04-20",
          "2020-04-21",
          "2020-06-09",
          "2020-06-21",
          "2020-06-24",
          "2020-06-26",
          "2020-07-07",
          "2020-07-08",
          "2020-07-09",
          "2020-07-10",
          "2020-07-11",
          "2020-07-12",
          "2020-07-14",
          "2020-07-15",
          "2020-07-17",
          "2020-07-19",
          "2020-07-20",
          "2020-07-21",
          "2020-07-22",
          "2020-07-23",
          "2020-08-06",
          "2020-08-16",
          "2020-08-17",
          "2020-09-13",
          "2020-09-17",
          "2020-09-18",
          "2020-09-19",
          "2020-09-20",
          "2020-09-21",
          "2020-09-22",
          "2020-09-24",
          "2020-09-25",
          "2020-09-26",
          "2020-09-30",
          "2020-10-01",
          "2020-10-03",
          "2020-10-04",
          "2020-10-05",
          "2020-10-06",
          "2020-10-10",
          "2020-10-14",
          "2020-10-17",
          "2020-10-19",
          "2020-10-21",
          "2020-10-22",
          "2020-10-29",
          "2020-10-31",
          "2020-11-08",
          "2020-11-09",
          "2020-11-14",
          "2020-11-15",
          "2020-11-19",
          "2020-11-20",
          "2020-11-22",
          "2020-12-04",
          "2020-12-08",
          "2020-12-09",
          "2020-12-10",
          "2020-12-11",
          "2020-12-13",
          "2020-12-14",
          "2020-12-20",
          "2020-12-21",
          "2020-12-23",
          "2020-12-24",
          "2020-12-28",
          "2020-12-30",
          "2020-12-31",
          "2021-01-01",
          "2021-01-02",
          "2021-01-03",
          "2021-01-05",
          "2021-01-08",
          "2021-01-09",
          "2021-01-15",
          "2021-01-16",
          "2021-01-17",
          "2021-01-18",
          "2021-01-20",
          "2021-01-22",
          "2021-01-23",
          "2021-01-24",
          "2021-01-25",
          "2021-01-26",
          "2021-01-27",
          "2021-01-28",
          "2021-01-29",
          "2021-01-31",
          "2021-02-01",
          "2021-02-03",
          "2021-02-04",
          "2021-02-05",
          "2021-02-06",
          "2021-02-07",
          "2021-02-08",
          "2021-02-10",
          "2021-02-11",
          "2021-02-13",
          "2021-02-15",
          "2021-02-17",
          "2021-02-18",
          "2021-02-19",
          "2021-02-20",
          "2021-02-21",
          "2021-02-22",
          "2021-02-26",
          "2021-02-28",
          "2021-03-01",
          "2021-03-02",
          "2021-03-03",
          "2021-03-04",
          "2021-03-05",
          "2021-03-06",
          "2021-03-07",
          "2021-03-08",
          "2021-03-09",
          "2021-03-10",
          "2021-03-11",
          "2021-03-13",
          "2021-03-14",
          "2021-03-15",
          "2021-03-16",
          "2021-03-17",
          "2021-03-18",
          "2021-03-19",
          "2021-03-20",
          "2021-03-21",
          "2021-03-23",
          "2021-03-24",
          "2021-03-25",
          "2021-03-26",
          "2021-03-27",
          "2021-03-29",
          "2021-03-30",
          "2021-03-31",
          "2021-04-01",
          "2021-04-02",
          "2021-04-03",
          "2021-04-05",
          "2021-04-07",
          "2021-04-08",
          "2021-04-09",
          "2021-04-11",
          "2021-04-12",
          "2021-04-14",
          "2021-04-16",
          "2021-04-18",
          "2021-04-19",
          "2021-04-20",
          "2021-04-21",
          "2021-04-23",
          "2021-04-25",
          "2021-04-26",
          "2021-04-27",
          "2021-04-28",
          "2021-04-29",
          "2021-04-30",
          "2021-05-01",
          "2021-05-03",
          "2021-05-04",
          "2021-05-05",
          "2021-05-07",
          "2021-05-08",
          "2021-05-10",
          "2021-05-11",
          "2021-05-14",
          "2021-05-15",
          "2021-05-16",
          "2021-05-17",
          "2021-05-18",
          "2021-05-19",
          "2021-05-20",
          "2021-05-21",
          "2021-05-23",
          "2021-05-24",
          "2021-05-25",
          "2021-05-26",
          "2021-05-27"
         ],
         "y": [
          78.775,
          438.15,
          425.5,
          98.325,
          96.025,
          95.825,
          139.15,
          66,
          533.6,
          470,
          461.5,
          78.225,
          526.05,
          80.85,
          97.125,
          75.6,
          75.6,
          127.05,
          90.825,
          90.3,
          75.6,
          100.8,
          100.8,
          66.73333333333333,
          100.8,
          100.8,
          129.15,
          80.15,
          88.55,
          212.1,
          106,
          102.275,
          175,
          202,
          588,
          702,
          120,
          123,
          155,
          286,
          123,
          386,
          122,
          786.5,
          139.15,
          145.325,
          136.4,
          127,
          130.9,
          115.5,
          940,
          342,
          587,
          289,
          1340,
          910,
          298,
          1226,
          169,
          960,
          291,
          255,
          788,
          303.3333333333333,
          119,
          427,
          117,
          301.6666666666667,
          434,
          740,
          513,
          327,
          392,
          107,
          70,
          686,
          396.3333333333333,
          531,
          176,
          86,
          923,
          307.6666666666667,
          256.5,
          1571,
          1037,
          175,
          331,
          312,
          715.5,
          1304,
          130.5,
          135,
          177,
          132,
          151,
          149,
          129,
          2604,
          165,
          753,
          201.5,
          121,
          664,
          577.5,
          542,
          159,
          160,
          226,
          196,
          162,
          274,
          444,
          173,
          162,
          217,
          202,
          164,
          195,
          164,
          160,
          74,
          119,
          76,
          69,
          116,
          378,
          200,
          135,
          164,
          157,
          160,
          54,
          96,
          122,
          62.333333333333336,
          142.5,
          49,
          203,
          260.6666666666667,
          552,
          75.5,
          82,
          657,
          54,
          167.5,
          52,
          251.66666666666666,
          215,
          279,
          470,
          191,
          100,
          437.5,
          266,
          74,
          114,
          553,
          178,
          364.5,
          809,
          646.6666666666666,
          117,
          55,
          356,
          138.66666666666666,
          86,
          251.66666666666666,
          235.5,
          102,
          169,
          56,
          585,
          368.5,
          81.66666666666667,
          50,
          49,
          459,
          166,
          386.5,
          322,
          238,
          974,
          251,
          296,
          289,
          216.5,
          354,
          292.5,
          70,
          84,
          153,
          65,
          90,
          60,
          230,
          460,
          455,
          720,
          710,
          320,
          240,
          510,
          490,
          760,
          475,
          1140,
          272.5,
          170,
          170,
          730,
          194,
          365,
          465,
          220,
          145,
          270,
          383.3333333333333,
          200,
          217.5,
          100,
          115,
          305,
          285,
          260,
          185,
          135,
          343.3333333333333,
          550,
          390,
          360,
          300,
          305,
          690,
          345,
          650,
          690,
          635,
          220,
          950,
          140,
          350,
          460,
          605,
          430,
          51.5,
          360,
          515,
          205,
          300,
          160,
          425,
          310,
          350,
          480,
          105,
          230,
          360,
          270,
          332.5,
          170.25,
          120,
          205.71428571428572,
          343.3333333333333,
          352.3333333333333,
          115,
          274.5,
          240,
          425.875,
          600,
          230.76666666666665,
          472.3,
          209.64999999999998,
          125.725,
          560,
          94.4,
          151.9,
          402.23333333333335,
          94.45,
          288.5,
          157.2,
          104.775,
          249.4625,
          275.3625,
          83.8,
          115.5,
          303.8,
          303.76666666666665,
          205.0666666666667,
          309.54999999999995,
          159.70833333333334,
          71.6,
          302.6666666666667,
          471.06666666666666,
          312.0285714285714,
          288.1166666666667,
          190,
          311.1333333333334,
          86.11666666666667,
          259.8666666666667,
          630,
          279.475,
          590,
          249.29999999999998,
          266.75,
          417,
          130,
          552.65,
          274.1625,
          180.8166666666667,
          136.35,
          555.225,
          73.45,
          435.68333333333334,
          195.27499999999998,
          78.35
         ]
        }
       ],
       "layout": {
        "template": {
         "data": {
          "bar": [
           {
            "error_x": {
             "color": "#2a3f5f"
            },
            "error_y": {
             "color": "#2a3f5f"
            },
            "marker": {
             "line": {
              "color": "#E5ECF6",
              "width": 0.5
             },
             "pattern": {
              "fillmode": "overlay",
              "size": 10,
              "solidity": 0.2
             }
            },
            "type": "bar"
           }
          ],
          "barpolar": [
           {
            "marker": {
             "line": {
              "color": "#E5ECF6",
              "width": 0.5
             },
             "pattern": {
              "fillmode": "overlay",
              "size": 10,
              "solidity": 0.2
             }
            },
            "type": "barpolar"
           }
          ],
          "carpet": [
           {
            "aaxis": {
             "endlinecolor": "#2a3f5f",
             "gridcolor": "white",
             "linecolor": "white",
             "minorgridcolor": "white",
             "startlinecolor": "#2a3f5f"
            },
            "baxis": {
             "endlinecolor": "#2a3f5f",
             "gridcolor": "white",
             "linecolor": "white",
             "minorgridcolor": "white",
             "startlinecolor": "#2a3f5f"
            },
            "type": "carpet"
           }
          ],
          "choropleth": [
           {
            "colorbar": {
             "outlinewidth": 0,
             "ticks": ""
            },
            "type": "choropleth"
           }
          ],
          "contour": [
           {
            "colorbar": {
             "outlinewidth": 0,
             "ticks": ""
            },
            "colorscale": [
             [
              0,
              "#0d0887"
             ],
             [
              0.1111111111111111,
              "#46039f"
             ],
             [
              0.2222222222222222,
              "#7201a8"
             ],
             [
              0.3333333333333333,
              "#9c179e"
             ],
             [
              0.4444444444444444,
              "#bd3786"
             ],
             [
              0.5555555555555556,
              "#d8576b"
             ],
             [
              0.6666666666666666,
              "#ed7953"
             ],
             [
              0.7777777777777778,
              "#fb9f3a"
             ],
             [
              0.8888888888888888,
              "#fdca26"
             ],
             [
              1,
              "#f0f921"
             ]
            ],
            "type": "contour"
           }
          ],
          "contourcarpet": [
           {
            "colorbar": {
             "outlinewidth": 0,
             "ticks": ""
            },
            "type": "contourcarpet"
           }
          ],
          "heatmap": [
           {
            "colorbar": {
             "outlinewidth": 0,
             "ticks": ""
            },
            "colorscale": [
             [
              0,
              "#0d0887"
             ],
             [
              0.1111111111111111,
              "#46039f"
             ],
             [
              0.2222222222222222,
              "#7201a8"
             ],
             [
              0.3333333333333333,
              "#9c179e"
             ],
             [
              0.4444444444444444,
              "#bd3786"
             ],
             [
              0.5555555555555556,
              "#d8576b"
             ],
             [
              0.6666666666666666,
              "#ed7953"
             ],
             [
              0.7777777777777778,
              "#fb9f3a"
             ],
             [
              0.8888888888888888,
              "#fdca26"
             ],
             [
              1,
              "#f0f921"
             ]
            ],
            "type": "heatmap"
           }
          ],
          "heatmapgl": [
           {
            "colorbar": {
             "outlinewidth": 0,
             "ticks": ""
            },
            "colorscale": [
             [
              0,
              "#0d0887"
             ],
             [
              0.1111111111111111,
              "#46039f"
             ],
             [
              0.2222222222222222,
              "#7201a8"
             ],
             [
              0.3333333333333333,
              "#9c179e"
             ],
             [
              0.4444444444444444,
              "#bd3786"
             ],
             [
              0.5555555555555556,
              "#d8576b"
             ],
             [
              0.6666666666666666,
              "#ed7953"
             ],
             [
              0.7777777777777778,
              "#fb9f3a"
             ],
             [
              0.8888888888888888,
              "#fdca26"
             ],
             [
              1,
              "#f0f921"
             ]
            ],
            "type": "heatmapgl"
           }
          ],
          "histogram": [
           {
            "marker": {
             "pattern": {
              "fillmode": "overlay",
              "size": 10,
              "solidity": 0.2
             }
            },
            "type": "histogram"
           }
          ],
          "histogram2d": [
           {
            "colorbar": {
             "outlinewidth": 0,
             "ticks": ""
            },
            "colorscale": [
             [
              0,
              "#0d0887"
             ],
             [
              0.1111111111111111,
              "#46039f"
             ],
             [
              0.2222222222222222,
              "#7201a8"
             ],
             [
              0.3333333333333333,
              "#9c179e"
             ],
             [
              0.4444444444444444,
              "#bd3786"
             ],
             [
              0.5555555555555556,
              "#d8576b"
             ],
             [
              0.6666666666666666,
              "#ed7953"
             ],
             [
              0.7777777777777778,
              "#fb9f3a"
             ],
             [
              0.8888888888888888,
              "#fdca26"
             ],
             [
              1,
              "#f0f921"
             ]
            ],
            "type": "histogram2d"
           }
          ],
          "histogram2dcontour": [
           {
            "colorbar": {
             "outlinewidth": 0,
             "ticks": ""
            },
            "colorscale": [
             [
              0,
              "#0d0887"
             ],
             [
              0.1111111111111111,
              "#46039f"
             ],
             [
              0.2222222222222222,
              "#7201a8"
             ],
             [
              0.3333333333333333,
              "#9c179e"
             ],
             [
              0.4444444444444444,
              "#bd3786"
             ],
             [
              0.5555555555555556,
              "#d8576b"
             ],
             [
              0.6666666666666666,
              "#ed7953"
             ],
             [
              0.7777777777777778,
              "#fb9f3a"
             ],
             [
              0.8888888888888888,
              "#fdca26"
             ],
             [
              1,
              "#f0f921"
             ]
            ],
            "type": "histogram2dcontour"
           }
          ],
          "mesh3d": [
           {
            "colorbar": {
             "outlinewidth": 0,
             "ticks": ""
            },
            "type": "mesh3d"
           }
          ],
          "parcoords": [
           {
            "line": {
             "colorbar": {
              "outlinewidth": 0,
              "ticks": ""
             }
            },
            "type": "parcoords"
           }
          ],
          "pie": [
           {
            "automargin": true,
            "type": "pie"
           }
          ],
          "scatter": [
           {
            "fillpattern": {
             "fillmode": "overlay",
             "size": 10,
             "solidity": 0.2
            },
            "type": "scatter"
           }
          ],
          "scatter3d": [
           {
            "line": {
             "colorbar": {
              "outlinewidth": 0,
              "ticks": ""
             }
            },
            "marker": {
             "colorbar": {
              "outlinewidth": 0,
              "ticks": ""
             }
            },
            "type": "scatter3d"
           }
          ],
          "scattercarpet": [
           {
            "marker": {
             "colorbar": {
              "outlinewidth": 0,
              "ticks": ""
             }
            },
            "type": "scattercarpet"
           }
          ],
          "scattergeo": [
           {
            "marker": {
             "colorbar": {
              "outlinewidth": 0,
              "ticks": ""
             }
            },
            "type": "scattergeo"
           }
          ],
          "scattergl": [
           {
            "marker": {
             "colorbar": {
              "outlinewidth": 0,
              "ticks": ""
             }
            },
            "type": "scattergl"
           }
          ],
          "scattermapbox": [
           {
            "marker": {
             "colorbar": {
              "outlinewidth": 0,
              "ticks": ""
             }
            },
            "type": "scattermapbox"
           }
          ],
          "scatterpolar": [
           {
            "marker": {
             "colorbar": {
              "outlinewidth": 0,
              "ticks": ""
             }
            },
            "type": "scatterpolar"
           }
          ],
          "scatterpolargl": [
           {
            "marker": {
             "colorbar": {
              "outlinewidth": 0,
              "ticks": ""
             }
            },
            "type": "scatterpolargl"
           }
          ],
          "scatterternary": [
           {
            "marker": {
             "colorbar": {
              "outlinewidth": 0,
              "ticks": ""
             }
            },
            "type": "scatterternary"
           }
          ],
          "surface": [
           {
            "colorbar": {
             "outlinewidth": 0,
             "ticks": ""
            },
            "colorscale": [
             [
              0,
              "#0d0887"
             ],
             [
              0.1111111111111111,
              "#46039f"
             ],
             [
              0.2222222222222222,
              "#7201a8"
             ],
             [
              0.3333333333333333,
              "#9c179e"
             ],
             [
              0.4444444444444444,
              "#bd3786"
             ],
             [
              0.5555555555555556,
              "#d8576b"
             ],
             [
              0.6666666666666666,
              "#ed7953"
             ],
             [
              0.7777777777777778,
              "#fb9f3a"
             ],
             [
              0.8888888888888888,
              "#fdca26"
             ],
             [
              1,
              "#f0f921"
             ]
            ],
            "type": "surface"
           }
          ],
          "table": [
           {
            "cells": {
             "fill": {
              "color": "#EBF0F8"
             },
             "line": {
              "color": "white"
             }
            },
            "header": {
             "fill": {
              "color": "#C8D4E3"
             },
             "line": {
              "color": "white"
             }
            },
            "type": "table"
           }
          ]
         },
         "layout": {
          "annotationdefaults": {
           "arrowcolor": "#2a3f5f",
           "arrowhead": 0,
           "arrowwidth": 1
          },
          "autotypenumbers": "strict",
          "coloraxis": {
           "colorbar": {
            "outlinewidth": 0,
            "ticks": ""
           }
          },
          "colorscale": {
           "diverging": [
            [
             0,
             "#8e0152"
            ],
            [
             0.1,
             "#c51b7d"
            ],
            [
             0.2,
             "#de77ae"
            ],
            [
             0.3,
             "#f1b6da"
            ],
            [
             0.4,
             "#fde0ef"
            ],
            [
             0.5,
             "#f7f7f7"
            ],
            [
             0.6,
             "#e6f5d0"
            ],
            [
             0.7,
             "#b8e186"
            ],
            [
             0.8,
             "#7fbc41"
            ],
            [
             0.9,
             "#4d9221"
            ],
            [
             1,
             "#276419"
            ]
           ],
           "sequential": [
            [
             0,
             "#0d0887"
            ],
            [
             0.1111111111111111,
             "#46039f"
            ],
            [
             0.2222222222222222,
             "#7201a8"
            ],
            [
             0.3333333333333333,
             "#9c179e"
            ],
            [
             0.4444444444444444,
             "#bd3786"
            ],
            [
             0.5555555555555556,
             "#d8576b"
            ],
            [
             0.6666666666666666,
             "#ed7953"
            ],
            [
             0.7777777777777778,
             "#fb9f3a"
            ],
            [
             0.8888888888888888,
             "#fdca26"
            ],
            [
             1,
             "#f0f921"
            ]
           ],
           "sequentialminus": [
            [
             0,
             "#0d0887"
            ],
            [
             0.1111111111111111,
             "#46039f"
            ],
            [
             0.2222222222222222,
             "#7201a8"
            ],
            [
             0.3333333333333333,
             "#9c179e"
            ],
            [
             0.4444444444444444,
             "#bd3786"
            ],
            [
             0.5555555555555556,
             "#d8576b"
            ],
            [
             0.6666666666666666,
             "#ed7953"
            ],
            [
             0.7777777777777778,
             "#fb9f3a"
            ],
            [
             0.8888888888888888,
             "#fdca26"
            ],
            [
             1,
             "#f0f921"
            ]
           ]
          },
          "colorway": [
           "#636efa",
           "#EF553B",
           "#00cc96",
           "#ab63fa",
           "#FFA15A",
           "#19d3f3",
           "#FF6692",
           "#B6E880",
           "#FF97FF",
           "#FECB52"
          ],
          "font": {
           "color": "#2a3f5f"
          },
          "geo": {
           "bgcolor": "white",
           "lakecolor": "white",
           "landcolor": "#E5ECF6",
           "showlakes": true,
           "showland": true,
           "subunitcolor": "white"
          },
          "hoverlabel": {
           "align": "left"
          },
          "hovermode": "closest",
          "mapbox": {
           "style": "light"
          },
          "paper_bgcolor": "white",
          "plot_bgcolor": "#E5ECF6",
          "polar": {
           "angularaxis": {
            "gridcolor": "white",
            "linecolor": "white",
            "ticks": ""
           },
           "bgcolor": "#E5ECF6",
           "radialaxis": {
            "gridcolor": "white",
            "linecolor": "white",
            "ticks": ""
           }
          },
          "scene": {
           "xaxis": {
            "backgroundcolor": "#E5ECF6",
            "gridcolor": "white",
            "gridwidth": 2,
            "linecolor": "white",
            "showbackground": true,
            "ticks": "",
            "zerolinecolor": "white"
           },
           "yaxis": {
            "backgroundcolor": "#E5ECF6",
            "gridcolor": "white",
            "gridwidth": 2,
            "linecolor": "white",
            "showbackground": true,
            "ticks": "",
            "zerolinecolor": "white"
           },
           "zaxis": {
            "backgroundcolor": "#E5ECF6",
            "gridcolor": "white",
            "gridwidth": 2,
            "linecolor": "white",
            "showbackground": true,
            "ticks": "",
            "zerolinecolor": "white"
           }
          },
          "shapedefaults": {
           "line": {
            "color": "#2a3f5f"
           }
          },
          "ternary": {
           "aaxis": {
            "gridcolor": "white",
            "linecolor": "white",
            "ticks": ""
           },
           "baxis": {
            "gridcolor": "white",
            "linecolor": "white",
            "ticks": ""
           },
           "bgcolor": "#E5ECF6",
           "caxis": {
            "gridcolor": "white",
            "linecolor": "white",
            "ticks": ""
           }
          },
          "title": {
           "x": 0.05
          },
          "xaxis": {
           "automargin": true,
           "gridcolor": "white",
           "linecolor": "white",
           "ticks": "",
           "title": {
            "standoff": 15
           },
           "zerolinecolor": "white",
           "zerolinewidth": 2
          },
          "yaxis": {
           "automargin": true,
           "gridcolor": "white",
           "linecolor": "white",
           "ticks": "",
           "title": {
            "standoff": 15
           },
           "zerolinecolor": "white",
           "zerolinewidth": 2
          }
         }
        },
        "title": {
         "text": "Posts on Medium (daily)"
        }
       }
      },
      "text/html": [
       "<div>                            <div id=\"b9999208-6868-4b62-b94b-598c226e823e\" class=\"plotly-graph-div\" style=\"height:525px; width:100%;\"></div>            <script type=\"text/javascript\">                require([\"plotly\"], function(Plotly) {                    window.PLOTLYENV=window.PLOTLYENV || {};                                    if (document.getElementById(\"b9999208-6868-4b62-b94b-598c226e823e\")) {                    Plotly.newPlot(                        \"b9999208-6868-4b62-b94b-598c226e823e\",                        [{\"mode\":\"lines\",\"name\":\"payment_cost\",\"x\":[\"2017-09-30\",\"2017-10-18\",\"2017-10-19\",\"2017-10-27\",\"2017-11-02\",\"2017-11-18\",\"2017-11-23\",\"2017-12-01\",\"2017-12-04\",\"2017-12-13\",\"2017-12-19\",\"2017-12-23\",\"2017-12-25\",\"2017-12-30\",\"2018-01-09\",\"2018-01-13\",\"2018-02-04\",\"2018-02-05\",\"2018-02-10\",\"2018-02-12\",\"2018-02-17\",\"2018-02-20\",\"2018-02-21\",\"2018-03-03\",\"2018-03-06\",\"2018-03-08\",\"2018-03-12\",\"2018-03-17\",\"2018-03-24\",\"2018-03-27\",\"2018-04-11\",\"2018-04-15\",\"2018-06-18\",\"2018-06-19\",\"2018-06-22\",\"2018-06-24\",\"2018-06-27\",\"2018-07-02\",\"2018-07-13\",\"2018-07-19\",\"2018-07-24\",\"2018-07-28\",\"2018-07-29\",\"2018-08-03\",\"2018-08-05\",\"2018-08-07\",\"2018-08-09\",\"2018-08-15\",\"2018-08-18\",\"2018-08-23\",\"2018-08-26\",\"2018-09-12\",\"2018-09-13\",\"2018-09-22\",\"2018-10-14\",\"2018-11-03\",\"2018-12-28\",\"2018-12-30\",\"2019-01-05\",\"2019-01-22\",\"2019-01-24\",\"2019-01-25\",\"2019-03-07\",\"2019-05-07\",\"2019-05-12\",\"2019-06-10\",\"2019-06-12\",\"2019-07-05\",\"2019-07-06\",\"2019-07-07\",\"2019-08-07\",\"2019-08-08\",\"2019-08-09\",\"2019-08-10\",\"2019-08-12\",\"2019-08-22\",\"2019-08-26\",\"2019-08-27\",\"2019-08-31\",\"2019-09-01\",\"2019-09-06\",\"2019-09-07\",\"2019-09-08\",\"2019-09-09\",\"2019-09-13\",\"2019-09-15\",\"2019-10-05\",\"2019-10-06\",\"2019-10-11\",\"2019-10-13\",\"2019-10-25\",\"2019-11-05\",\"2019-11-24\",\"2019-11-27\",\"2019-11-30\",\"2019-12-07\",\"2019-12-11\",\"2019-12-20\",\"2019-12-25\",\"2019-12-28\",\"2020-01-01\",\"2020-01-02\",\"2020-01-07\",\"2020-01-08\",\"2020-01-11\",\"2020-01-19\",\"2020-01-23\",\"2020-01-24\",\"2020-01-25\",\"2020-01-26\",\"2020-01-28\",\"2020-02-01\",\"2020-02-03\",\"2020-02-06\",\"2020-02-07\",\"2020-02-09\",\"2020-02-13\",\"2020-02-17\",\"2020-02-18\",\"2020-02-21\",\"2020-02-22\",\"2020-02-23\",\"2020-02-25\",\"2020-02-26\",\"2020-02-27\",\"2020-02-28\",\"2020-03-01\",\"2020-03-03\",\"2020-03-05\",\"2020-03-11\",\"2020-03-17\",\"2020-03-21\",\"2020-03-22\",\"2020-03-28\",\"2020-03-29\",\"2020-03-30\",\"2020-04-10\",\"2020-04-20\",\"2020-04-21\",\"2020-06-09\",\"2020-06-21\",\"2020-06-24\",\"2020-06-26\",\"2020-07-07\",\"2020-07-08\",\"2020-07-09\",\"2020-07-10\",\"2020-07-11\",\"2020-07-12\",\"2020-07-14\",\"2020-07-15\",\"2020-07-17\",\"2020-07-19\",\"2020-07-20\",\"2020-07-21\",\"2020-07-22\",\"2020-07-23\",\"2020-08-06\",\"2020-08-16\",\"2020-08-17\",\"2020-09-13\",\"2020-09-17\",\"2020-09-18\",\"2020-09-19\",\"2020-09-20\",\"2020-09-21\",\"2020-09-22\",\"2020-09-24\",\"2020-09-25\",\"2020-09-26\",\"2020-09-30\",\"2020-10-01\",\"2020-10-03\",\"2020-10-04\",\"2020-10-05\",\"2020-10-06\",\"2020-10-10\",\"2020-10-14\",\"2020-10-17\",\"2020-10-19\",\"2020-10-21\",\"2020-10-22\",\"2020-10-29\",\"2020-10-31\",\"2020-11-08\",\"2020-11-09\",\"2020-11-14\",\"2020-11-15\",\"2020-11-19\",\"2020-11-20\",\"2020-11-22\",\"2020-12-04\",\"2020-12-08\",\"2020-12-09\",\"2020-12-10\",\"2020-12-11\",\"2020-12-13\",\"2020-12-14\",\"2020-12-20\",\"2020-12-21\",\"2020-12-23\",\"2020-12-24\",\"2020-12-28\",\"2020-12-30\",\"2020-12-31\",\"2021-01-01\",\"2021-01-02\",\"2021-01-03\",\"2021-01-05\",\"2021-01-08\",\"2021-01-09\",\"2021-01-15\",\"2021-01-16\",\"2021-01-17\",\"2021-01-18\",\"2021-01-20\",\"2021-01-22\",\"2021-01-23\",\"2021-01-24\",\"2021-01-25\",\"2021-01-26\",\"2021-01-27\",\"2021-01-28\",\"2021-01-29\",\"2021-01-31\",\"2021-02-01\",\"2021-02-03\",\"2021-02-04\",\"2021-02-05\",\"2021-02-06\",\"2021-02-07\",\"2021-02-08\",\"2021-02-10\",\"2021-02-11\",\"2021-02-13\",\"2021-02-15\",\"2021-02-17\",\"2021-02-18\",\"2021-02-19\",\"2021-02-20\",\"2021-02-21\",\"2021-02-22\",\"2021-02-26\",\"2021-02-28\",\"2021-03-01\",\"2021-03-02\",\"2021-03-03\",\"2021-03-04\",\"2021-03-05\",\"2021-03-06\",\"2021-03-07\",\"2021-03-08\",\"2021-03-09\",\"2021-03-10\",\"2021-03-11\",\"2021-03-13\",\"2021-03-14\",\"2021-03-15\",\"2021-03-16\",\"2021-03-17\",\"2021-03-18\",\"2021-03-19\",\"2021-03-20\",\"2021-03-21\",\"2021-03-23\",\"2021-03-24\",\"2021-03-25\",\"2021-03-26\",\"2021-03-27\",\"2021-03-29\",\"2021-03-30\",\"2021-03-31\",\"2021-04-01\",\"2021-04-02\",\"2021-04-03\",\"2021-04-05\",\"2021-04-07\",\"2021-04-08\",\"2021-04-09\",\"2021-04-11\",\"2021-04-12\",\"2021-04-14\",\"2021-04-16\",\"2021-04-18\",\"2021-04-19\",\"2021-04-20\",\"2021-04-21\",\"2021-04-23\",\"2021-04-25\",\"2021-04-26\",\"2021-04-27\",\"2021-04-28\",\"2021-04-29\",\"2021-04-30\",\"2021-05-01\",\"2021-05-03\",\"2021-05-04\",\"2021-05-05\",\"2021-05-07\",\"2021-05-08\",\"2021-05-10\",\"2021-05-11\",\"2021-05-14\",\"2021-05-15\",\"2021-05-16\",\"2021-05-17\",\"2021-05-18\",\"2021-05-19\",\"2021-05-20\",\"2021-05-21\",\"2021-05-23\",\"2021-05-24\",\"2021-05-25\",\"2021-05-26\",\"2021-05-27\"],\"y\":[78.775,438.15,425.5,98.325,96.025,95.825,139.15,66.0,533.6,470.0,461.5,78.225,526.05,80.85,97.125,75.6,75.6,127.05,90.825,90.3,75.6,100.8,100.8,66.73333333333333,100.8,100.8,129.15,80.15,88.55,212.1,106.0,102.275,175.0,202.0,588.0,702.0,120.0,123.0,155.0,286.0,123.0,386.0,122.0,786.5,139.15,145.325,136.4,127.0,130.9,115.5,940.0,342.0,587.0,289.0,1340.0,910.0,298.0,1226.0,169.0,960.0,291.0,255.0,788.0,303.3333333333333,119.0,427.0,117.0,301.6666666666667,434.0,740.0,513.0,327.0,392.0,107.0,70.0,686.0,396.3333333333333,531.0,176.0,86.0,923.0,307.6666666666667,256.5,1571.0,1037.0,175.0,331.0,312.0,715.5,1304.0,130.5,135.0,177.0,132.0,151.0,149.0,129.0,2604.0,165.0,753.0,201.5,121.0,664.0,577.5,542.0,159.0,160.0,226.0,196.0,162.0,274.0,444.0,173.0,162.0,217.0,202.0,164.0,195.0,164.0,160.0,74.0,119.0,76.0,69.0,116.0,378.0,200.0,135.0,164.0,157.0,160.0,54.0,96.0,122.0,62.333333333333336,142.5,49.0,203.0,260.6666666666667,552.0,75.5,82.0,657.0,54.0,167.5,52.0,251.66666666666666,215.0,279.0,470.0,191.0,100.0,437.5,266.0,74.0,114.0,553.0,178.0,364.5,809.0,646.6666666666666,117.0,55.0,356.0,138.66666666666666,86.0,251.66666666666666,235.5,102.0,169.0,56.0,585.0,368.5,81.66666666666667,50.0,49.0,459.0,166.0,386.5,322.0,238.0,974.0,251.0,296.0,289.0,216.5,354.0,292.5,70.0,84.0,153.0,65.0,90.0,60.0,230.0,460.0,455.0,720.0,710.0,320.0,240.0,510.0,490.0,760.0,475.0,1140.0,272.5,170.0,170.0,730.0,194.0,365.0,465.0,220.0,145.0,270.0,383.3333333333333,200.0,217.5,100.0,115.0,305.0,285.0,260.0,185.0,135.0,343.3333333333333,550.0,390.0,360.0,300.0,305.0,690.0,345.0,650.0,690.0,635.0,220.0,950.0,140.0,350.0,460.0,605.0,430.0,51.5,360.0,515.0,205.0,300.0,160.0,425.0,310.0,350.0,480.0,105.0,230.0,360.0,270.0,332.5,170.25,120.0,205.71428571428572,343.3333333333333,352.3333333333333,115.0,274.5,240.0,425.875,600.0,230.76666666666665,472.3,209.64999999999998,125.725,560.0,94.4,151.9,402.23333333333335,94.45,288.5,157.2,104.775,249.4625,275.3625,83.8,115.5,303.8,303.76666666666665,205.0666666666667,309.54999999999995,159.70833333333334,71.6,302.6666666666667,471.06666666666666,312.0285714285714,288.1166666666667,190.0,311.1333333333334,86.11666666666667,259.8666666666667,630.0,279.475,590.0,249.29999999999998,266.75,417.0,130.0,552.65,274.1625,180.8166666666667,136.35,555.225,73.45,435.68333333333334,195.27499999999998,78.35],\"type\":\"scatter\"}],                        {\"template\":{\"data\":{\"barpolar\":[{\"marker\":{\"line\":{\"color\":\"#E5ECF6\",\"width\":0.5},\"pattern\":{\"fillmode\":\"overlay\",\"size\":10,\"solidity\":0.2}},\"type\":\"barpolar\"}],\"bar\":[{\"error_x\":{\"color\":\"#2a3f5f\"},\"error_y\":{\"color\":\"#2a3f5f\"},\"marker\":{\"line\":{\"color\":\"#E5ECF6\",\"width\":0.5},\"pattern\":{\"fillmode\":\"overlay\",\"size\":10,\"solidity\":0.2}},\"type\":\"bar\"}],\"carpet\":[{\"aaxis\":{\"endlinecolor\":\"#2a3f5f\",\"gridcolor\":\"white\",\"linecolor\":\"white\",\"minorgridcolor\":\"white\",\"startlinecolor\":\"#2a3f5f\"},\"baxis\":{\"endlinecolor\":\"#2a3f5f\",\"gridcolor\":\"white\",\"linecolor\":\"white\",\"minorgridcolor\":\"white\",\"startlinecolor\":\"#2a3f5f\"},\"type\":\"carpet\"}],\"choropleth\":[{\"colorbar\":{\"outlinewidth\":0,\"ticks\":\"\"},\"type\":\"choropleth\"}],\"contourcarpet\":[{\"colorbar\":{\"outlinewidth\":0,\"ticks\":\"\"},\"type\":\"contourcarpet\"}],\"contour\":[{\"colorbar\":{\"outlinewidth\":0,\"ticks\":\"\"},\"colorscale\":[[0.0,\"#0d0887\"],[0.1111111111111111,\"#46039f\"],[0.2222222222222222,\"#7201a8\"],[0.3333333333333333,\"#9c179e\"],[0.4444444444444444,\"#bd3786\"],[0.5555555555555556,\"#d8576b\"],[0.6666666666666666,\"#ed7953\"],[0.7777777777777778,\"#fb9f3a\"],[0.8888888888888888,\"#fdca26\"],[1.0,\"#f0f921\"]],\"type\":\"contour\"}],\"heatmapgl\":[{\"colorbar\":{\"outlinewidth\":0,\"ticks\":\"\"},\"colorscale\":[[0.0,\"#0d0887\"],[0.1111111111111111,\"#46039f\"],[0.2222222222222222,\"#7201a8\"],[0.3333333333333333,\"#9c179e\"],[0.4444444444444444,\"#bd3786\"],[0.5555555555555556,\"#d8576b\"],[0.6666666666666666,\"#ed7953\"],[0.7777777777777778,\"#fb9f3a\"],[0.8888888888888888,\"#fdca26\"],[1.0,\"#f0f921\"]],\"type\":\"heatmapgl\"}],\"heatmap\":[{\"colorbar\":{\"outlinewidth\":0,\"ticks\":\"\"},\"colorscale\":[[0.0,\"#0d0887\"],[0.1111111111111111,\"#46039f\"],[0.2222222222222222,\"#7201a8\"],[0.3333333333333333,\"#9c179e\"],[0.4444444444444444,\"#bd3786\"],[0.5555555555555556,\"#d8576b\"],[0.6666666666666666,\"#ed7953\"],[0.7777777777777778,\"#fb9f3a\"],[0.8888888888888888,\"#fdca26\"],[1.0,\"#f0f921\"]],\"type\":\"heatmap\"}],\"histogram2dcontour\":[{\"colorbar\":{\"outlinewidth\":0,\"ticks\":\"\"},\"colorscale\":[[0.0,\"#0d0887\"],[0.1111111111111111,\"#46039f\"],[0.2222222222222222,\"#7201a8\"],[0.3333333333333333,\"#9c179e\"],[0.4444444444444444,\"#bd3786\"],[0.5555555555555556,\"#d8576b\"],[0.6666666666666666,\"#ed7953\"],[0.7777777777777778,\"#fb9f3a\"],[0.8888888888888888,\"#fdca26\"],[1.0,\"#f0f921\"]],\"type\":\"histogram2dcontour\"}],\"histogram2d\":[{\"colorbar\":{\"outlinewidth\":0,\"ticks\":\"\"},\"colorscale\":[[0.0,\"#0d0887\"],[0.1111111111111111,\"#46039f\"],[0.2222222222222222,\"#7201a8\"],[0.3333333333333333,\"#9c179e\"],[0.4444444444444444,\"#bd3786\"],[0.5555555555555556,\"#d8576b\"],[0.6666666666666666,\"#ed7953\"],[0.7777777777777778,\"#fb9f3a\"],[0.8888888888888888,\"#fdca26\"],[1.0,\"#f0f921\"]],\"type\":\"histogram2d\"}],\"histogram\":[{\"marker\":{\"pattern\":{\"fillmode\":\"overlay\",\"size\":10,\"solidity\":0.2}},\"type\":\"histogram\"}],\"mesh3d\":[{\"colorbar\":{\"outlinewidth\":0,\"ticks\":\"\"},\"type\":\"mesh3d\"}],\"parcoords\":[{\"line\":{\"colorbar\":{\"outlinewidth\":0,\"ticks\":\"\"}},\"type\":\"parcoords\"}],\"pie\":[{\"automargin\":true,\"type\":\"pie\"}],\"scatter3d\":[{\"line\":{\"colorbar\":{\"outlinewidth\":0,\"ticks\":\"\"}},\"marker\":{\"colorbar\":{\"outlinewidth\":0,\"ticks\":\"\"}},\"type\":\"scatter3d\"}],\"scattercarpet\":[{\"marker\":{\"colorbar\":{\"outlinewidth\":0,\"ticks\":\"\"}},\"type\":\"scattercarpet\"}],\"scattergeo\":[{\"marker\":{\"colorbar\":{\"outlinewidth\":0,\"ticks\":\"\"}},\"type\":\"scattergeo\"}],\"scattergl\":[{\"marker\":{\"colorbar\":{\"outlinewidth\":0,\"ticks\":\"\"}},\"type\":\"scattergl\"}],\"scattermapbox\":[{\"marker\":{\"colorbar\":{\"outlinewidth\":0,\"ticks\":\"\"}},\"type\":\"scattermapbox\"}],\"scatterpolargl\":[{\"marker\":{\"colorbar\":{\"outlinewidth\":0,\"ticks\":\"\"}},\"type\":\"scatterpolargl\"}],\"scatterpolar\":[{\"marker\":{\"colorbar\":{\"outlinewidth\":0,\"ticks\":\"\"}},\"type\":\"scatterpolar\"}],\"scatter\":[{\"fillpattern\":{\"fillmode\":\"overlay\",\"size\":10,\"solidity\":0.2},\"type\":\"scatter\"}],\"scatterternary\":[{\"marker\":{\"colorbar\":{\"outlinewidth\":0,\"ticks\":\"\"}},\"type\":\"scatterternary\"}],\"surface\":[{\"colorbar\":{\"outlinewidth\":0,\"ticks\":\"\"},\"colorscale\":[[0.0,\"#0d0887\"],[0.1111111111111111,\"#46039f\"],[0.2222222222222222,\"#7201a8\"],[0.3333333333333333,\"#9c179e\"],[0.4444444444444444,\"#bd3786\"],[0.5555555555555556,\"#d8576b\"],[0.6666666666666666,\"#ed7953\"],[0.7777777777777778,\"#fb9f3a\"],[0.8888888888888888,\"#fdca26\"],[1.0,\"#f0f921\"]],\"type\":\"surface\"}],\"table\":[{\"cells\":{\"fill\":{\"color\":\"#EBF0F8\"},\"line\":{\"color\":\"white\"}},\"header\":{\"fill\":{\"color\":\"#C8D4E3\"},\"line\":{\"color\":\"white\"}},\"type\":\"table\"}]},\"layout\":{\"annotationdefaults\":{\"arrowcolor\":\"#2a3f5f\",\"arrowhead\":0,\"arrowwidth\":1},\"autotypenumbers\":\"strict\",\"coloraxis\":{\"colorbar\":{\"outlinewidth\":0,\"ticks\":\"\"}},\"colorscale\":{\"diverging\":[[0,\"#8e0152\"],[0.1,\"#c51b7d\"],[0.2,\"#de77ae\"],[0.3,\"#f1b6da\"],[0.4,\"#fde0ef\"],[0.5,\"#f7f7f7\"],[0.6,\"#e6f5d0\"],[0.7,\"#b8e186\"],[0.8,\"#7fbc41\"],[0.9,\"#4d9221\"],[1,\"#276419\"]],\"sequential\":[[0.0,\"#0d0887\"],[0.1111111111111111,\"#46039f\"],[0.2222222222222222,\"#7201a8\"],[0.3333333333333333,\"#9c179e\"],[0.4444444444444444,\"#bd3786\"],[0.5555555555555556,\"#d8576b\"],[0.6666666666666666,\"#ed7953\"],[0.7777777777777778,\"#fb9f3a\"],[0.8888888888888888,\"#fdca26\"],[1.0,\"#f0f921\"]],\"sequentialminus\":[[0.0,\"#0d0887\"],[0.1111111111111111,\"#46039f\"],[0.2222222222222222,\"#7201a8\"],[0.3333333333333333,\"#9c179e\"],[0.4444444444444444,\"#bd3786\"],[0.5555555555555556,\"#d8576b\"],[0.6666666666666666,\"#ed7953\"],[0.7777777777777778,\"#fb9f3a\"],[0.8888888888888888,\"#fdca26\"],[1.0,\"#f0f921\"]]},\"colorway\":[\"#636efa\",\"#EF553B\",\"#00cc96\",\"#ab63fa\",\"#FFA15A\",\"#19d3f3\",\"#FF6692\",\"#B6E880\",\"#FF97FF\",\"#FECB52\"],\"font\":{\"color\":\"#2a3f5f\"},\"geo\":{\"bgcolor\":\"white\",\"lakecolor\":\"white\",\"landcolor\":\"#E5ECF6\",\"showlakes\":true,\"showland\":true,\"subunitcolor\":\"white\"},\"hoverlabel\":{\"align\":\"left\"},\"hovermode\":\"closest\",\"mapbox\":{\"style\":\"light\"},\"paper_bgcolor\":\"white\",\"plot_bgcolor\":\"#E5ECF6\",\"polar\":{\"angularaxis\":{\"gridcolor\":\"white\",\"linecolor\":\"white\",\"ticks\":\"\"},\"bgcolor\":\"#E5ECF6\",\"radialaxis\":{\"gridcolor\":\"white\",\"linecolor\":\"white\",\"ticks\":\"\"}},\"scene\":{\"xaxis\":{\"backgroundcolor\":\"#E5ECF6\",\"gridcolor\":\"white\",\"gridwidth\":2,\"linecolor\":\"white\",\"showbackground\":true,\"ticks\":\"\",\"zerolinecolor\":\"white\"},\"yaxis\":{\"backgroundcolor\":\"#E5ECF6\",\"gridcolor\":\"white\",\"gridwidth\":2,\"linecolor\":\"white\",\"showbackground\":true,\"ticks\":\"\",\"zerolinecolor\":\"white\"},\"zaxis\":{\"backgroundcolor\":\"#E5ECF6\",\"gridcolor\":\"white\",\"gridwidth\":2,\"linecolor\":\"white\",\"showbackground\":true,\"ticks\":\"\",\"zerolinecolor\":\"white\"}},\"shapedefaults\":{\"line\":{\"color\":\"#2a3f5f\"}},\"ternary\":{\"aaxis\":{\"gridcolor\":\"white\",\"linecolor\":\"white\",\"ticks\":\"\"},\"baxis\":{\"gridcolor\":\"white\",\"linecolor\":\"white\",\"ticks\":\"\"},\"bgcolor\":\"#E5ECF6\",\"caxis\":{\"gridcolor\":\"white\",\"linecolor\":\"white\",\"ticks\":\"\"}},\"title\":{\"x\":0.05},\"xaxis\":{\"automargin\":true,\"gridcolor\":\"white\",\"linecolor\":\"white\",\"ticks\":\"\",\"title\":{\"standoff\":15},\"zerolinecolor\":\"white\",\"zerolinewidth\":2},\"yaxis\":{\"automargin\":true,\"gridcolor\":\"white\",\"linecolor\":\"white\",\"ticks\":\"\",\"title\":{\"standoff\":15},\"zerolinecolor\":\"white\",\"zerolinewidth\":2}}},\"title\":{\"text\":\"Posts on Medium (daily)\"}},                        {\"responsive\": true}                    ).then(function(){\n",
       "                            \n",
       "var gd = document.getElementById('b9999208-6868-4b62-b94b-598c226e823e');\n",
       "var x = new MutationObserver(function (mutations, observer) {{\n",
       "        var display = window.getComputedStyle(gd).display;\n",
       "        if (!display || display === 'none') {{\n",
       "            console.log([gd, 'removed!']);\n",
       "            Plotly.purge(gd);\n",
       "            observer.disconnect();\n",
       "        }}\n",
       "}});\n",
       "\n",
       "// Listen for the removal of the full notebook cells\n",
       "var notebookContainer = gd.closest('#notebook-container');\n",
       "if (notebookContainer) {{\n",
       "    x.observe(notebookContainer, {childList: true});\n",
       "}}\n",
       "\n",
       "// Listen for the clearing of the current output cell\n",
       "var outputEl = gd.closest('.output');\n",
       "if (outputEl) {{\n",
       "    x.observe(outputEl, {childList: true});\n",
       "}}\n",
       "\n",
       "                        })                };                });            </script>        </div>"
      ]
     },
     "metadata": {},
     "output_type": "display_data"
    }
   ],
   "source": [
    "plotly_df(df, title=\"Posts on Medium (daily)\")"
   ]
  },
  {
   "cell_type": "code",
   "execution_count": 9,
   "id": "38fef0dc",
   "metadata": {
    "ExecuteTime": {
     "end_time": "2024-04-24T14:09:48.527676Z",
     "start_time": "2024-04-24T14:09:48.398623Z"
    }
   },
   "outputs": [],
   "source": [
    "#  import loggin and mute unimportant diagnostic messages:\n",
    "import logging\n",
    "\n",
    "logging.getLogger().setLevel(logging.ERROR)\n",
    "\n",
    "# Prophet\n",
    "from prophet import Prophet"
   ]
  },
  {
   "cell_type": "code",
   "execution_count": 10,
   "id": "bba15860",
   "metadata": {
    "ExecuteTime": {
     "end_time": "2024-04-24T14:09:48.538981Z",
     "start_time": "2024-04-24T14:09:48.531517Z"
    }
   },
   "outputs": [],
   "source": [
    "# Required format for prophet\n",
    "df = df.reset_index()\n",
    "df.columns = [\"ds\", \"y\"]"
   ]
  },
  {
   "cell_type": "code",
   "execution_count": 11,
   "id": "3658a672",
   "metadata": {
    "ExecuteTime": {
     "end_time": "2024-04-24T14:09:48.571041Z",
     "start_time": "2024-04-24T14:09:48.543603Z"
    }
   },
   "outputs": [
    {
     "data": {
      "text/html": [
       "<div>\n",
       "<style scoped>\n",
       "    .dataframe tbody tr th:only-of-type {\n",
       "        vertical-align: middle;\n",
       "    }\n",
       "\n",
       "    .dataframe tbody tr th {\n",
       "        vertical-align: top;\n",
       "    }\n",
       "\n",
       "    .dataframe thead th {\n",
       "        text-align: right;\n",
       "    }\n",
       "</style>\n",
       "<table border=\"1\" class=\"dataframe\">\n",
       "  <thead>\n",
       "    <tr style=\"text-align: right;\">\n",
       "      <th></th>\n",
       "      <th>ds</th>\n",
       "      <th>y</th>\n",
       "    </tr>\n",
       "  </thead>\n",
       "  <tbody>\n",
       "    <tr>\n",
       "      <th>0</th>\n",
       "      <td>2017-09-30</td>\n",
       "      <td>78.775000</td>\n",
       "    </tr>\n",
       "    <tr>\n",
       "      <th>1</th>\n",
       "      <td>2017-10-18</td>\n",
       "      <td>438.150000</td>\n",
       "    </tr>\n",
       "    <tr>\n",
       "      <th>2</th>\n",
       "      <td>2017-10-19</td>\n",
       "      <td>425.500000</td>\n",
       "    </tr>\n",
       "    <tr>\n",
       "      <th>3</th>\n",
       "      <td>2017-10-27</td>\n",
       "      <td>98.325000</td>\n",
       "    </tr>\n",
       "    <tr>\n",
       "      <th>4</th>\n",
       "      <td>2017-11-02</td>\n",
       "      <td>96.025000</td>\n",
       "    </tr>\n",
       "    <tr>\n",
       "      <th>...</th>\n",
       "      <td>...</td>\n",
       "      <td>...</td>\n",
       "    </tr>\n",
       "    <tr>\n",
       "      <th>310</th>\n",
       "      <td>2021-05-23</td>\n",
       "      <td>555.225000</td>\n",
       "    </tr>\n",
       "    <tr>\n",
       "      <th>311</th>\n",
       "      <td>2021-05-24</td>\n",
       "      <td>73.450000</td>\n",
       "    </tr>\n",
       "    <tr>\n",
       "      <th>312</th>\n",
       "      <td>2021-05-25</td>\n",
       "      <td>435.683333</td>\n",
       "    </tr>\n",
       "    <tr>\n",
       "      <th>313</th>\n",
       "      <td>2021-05-26</td>\n",
       "      <td>195.275000</td>\n",
       "    </tr>\n",
       "    <tr>\n",
       "      <th>314</th>\n",
       "      <td>2021-05-27</td>\n",
       "      <td>78.350000</td>\n",
       "    </tr>\n",
       "  </tbody>\n",
       "</table>\n",
       "<p>315 rows × 2 columns</p>\n",
       "</div>"
      ],
      "text/plain": [
       "             ds           y\n",
       "0    2017-09-30   78.775000\n",
       "1    2017-10-18  438.150000\n",
       "2    2017-10-19  425.500000\n",
       "3    2017-10-27   98.325000\n",
       "4    2017-11-02   96.025000\n",
       "..          ...         ...\n",
       "310  2021-05-23  555.225000\n",
       "311  2021-05-24   73.450000\n",
       "312  2021-05-25  435.683333\n",
       "313  2021-05-26  195.275000\n",
       "314  2021-05-27   78.350000\n",
       "\n",
       "[315 rows x 2 columns]"
      ]
     },
     "execution_count": 11,
     "metadata": {},
     "output_type": "execute_result"
    }
   ],
   "source": [
    "df"
   ]
  },
  {
   "cell_type": "code",
   "execution_count": 12,
   "id": "a76f4482",
   "metadata": {
    "ExecuteTime": {
     "end_time": "2024-04-24T14:09:48.600575Z",
     "start_time": "2024-04-24T14:09:48.574623Z"
    }
   },
   "outputs": [
    {
     "data": {
      "text/html": [
       "<div>\n",
       "<style scoped>\n",
       "    .dataframe tbody tr th:only-of-type {\n",
       "        vertical-align: middle;\n",
       "    }\n",
       "\n",
       "    .dataframe tbody tr th {\n",
       "        vertical-align: top;\n",
       "    }\n",
       "\n",
       "    .dataframe thead th {\n",
       "        text-align: right;\n",
       "    }\n",
       "</style>\n",
       "<table border=\"1\" class=\"dataframe\">\n",
       "  <thead>\n",
       "    <tr style=\"text-align: right;\">\n",
       "      <th></th>\n",
       "      <th>ds</th>\n",
       "      <th>y</th>\n",
       "    </tr>\n",
       "  </thead>\n",
       "  <tbody>\n",
       "    <tr>\n",
       "      <th>236</th>\n",
       "      <td>2021-02-17</td>\n",
       "      <td>635.0</td>\n",
       "    </tr>\n",
       "    <tr>\n",
       "      <th>237</th>\n",
       "      <td>2021-02-18</td>\n",
       "      <td>220.0</td>\n",
       "    </tr>\n",
       "    <tr>\n",
       "      <th>238</th>\n",
       "      <td>2021-02-19</td>\n",
       "      <td>950.0</td>\n",
       "    </tr>\n",
       "    <tr>\n",
       "      <th>239</th>\n",
       "      <td>2021-02-20</td>\n",
       "      <td>140.0</td>\n",
       "    </tr>\n",
       "    <tr>\n",
       "      <th>240</th>\n",
       "      <td>2021-02-21</td>\n",
       "      <td>350.0</td>\n",
       "    </tr>\n",
       "  </tbody>\n",
       "</table>\n",
       "</div>"
      ],
      "text/plain": [
       "             ds      y\n",
       "236  2021-02-17  635.0\n",
       "237  2021-02-18  220.0\n",
       "238  2021-02-19  950.0\n",
       "239  2021-02-20  140.0\n",
       "240  2021-02-21  350.0"
      ]
     },
     "execution_count": 12,
     "metadata": {},
     "output_type": "execute_result"
    }
   ],
   "source": [
    "# Splitting to have training set \n",
    "prediction_size = 74\n",
    "train_df = df[:-prediction_size]\n",
    "train_df.tail()"
   ]
  },
  {
   "cell_type": "code",
   "execution_count": 13,
   "id": "a0528de1",
   "metadata": {
    "ExecuteTime": {
     "end_time": "2024-04-24T14:09:48.876269Z",
     "start_time": "2024-04-24T14:09:48.605795Z"
    }
   },
   "outputs": [
    {
     "name": "stderr",
     "output_type": "stream",
     "text": [
      "19:09:48 - cmdstanpy - INFO - Chain [1] start processing\n",
      "19:09:48 - cmdstanpy - INFO - Chain [1] done processing\n"
     ]
    }
   ],
   "source": [
    "model = Prophet()\n",
    "model.fit(train_df);"
   ]
  },
  {
   "cell_type": "code",
   "execution_count": 14,
   "id": "97426c30",
   "metadata": {
    "ExecuteTime": {
     "end_time": "2024-04-24T14:09:48.904174Z",
     "start_time": "2024-04-24T14:09:48.883669Z"
    }
   },
   "outputs": [
    {
     "data": {
      "text/html": [
       "<div>\n",
       "<style scoped>\n",
       "    .dataframe tbody tr th:only-of-type {\n",
       "        vertical-align: middle;\n",
       "    }\n",
       "\n",
       "    .dataframe tbody tr th {\n",
       "        vertical-align: top;\n",
       "    }\n",
       "\n",
       "    .dataframe thead th {\n",
       "        text-align: right;\n",
       "    }\n",
       "</style>\n",
       "<table border=\"1\" class=\"dataframe\">\n",
       "  <thead>\n",
       "    <tr style=\"text-align: right;\">\n",
       "      <th></th>\n",
       "      <th>ds</th>\n",
       "    </tr>\n",
       "  </thead>\n",
       "  <tbody>\n",
       "    <tr>\n",
       "      <th>310</th>\n",
       "      <td>2021-05-02</td>\n",
       "    </tr>\n",
       "    <tr>\n",
       "      <th>311</th>\n",
       "      <td>2021-05-03</td>\n",
       "    </tr>\n",
       "    <tr>\n",
       "      <th>312</th>\n",
       "      <td>2021-05-04</td>\n",
       "    </tr>\n",
       "    <tr>\n",
       "      <th>313</th>\n",
       "      <td>2021-05-05</td>\n",
       "    </tr>\n",
       "    <tr>\n",
       "      <th>314</th>\n",
       "      <td>2021-05-06</td>\n",
       "    </tr>\n",
       "  </tbody>\n",
       "</table>\n",
       "</div>"
      ],
      "text/plain": [
       "            ds\n",
       "310 2021-05-02\n",
       "311 2021-05-03\n",
       "312 2021-05-04\n",
       "313 2021-05-05\n",
       "314 2021-05-06"
      ]
     },
     "execution_count": 14,
     "metadata": {},
     "output_type": "execute_result"
    }
   ],
   "source": [
    "future = model.make_future_dataframe(periods=prediction_size)\n",
    "future.tail()"
   ]
  },
  {
   "cell_type": "code",
   "execution_count": 15,
   "id": "45bea124",
   "metadata": {
    "ExecuteTime": {
     "end_time": "2024-04-24T14:09:49.099418Z",
     "start_time": "2024-04-24T14:09:48.909323Z"
    },
    "scrolled": true
   },
   "outputs": [
    {
     "data": {
      "text/html": [
       "<div>\n",
       "<style scoped>\n",
       "    .dataframe tbody tr th:only-of-type {\n",
       "        vertical-align: middle;\n",
       "    }\n",
       "\n",
       "    .dataframe tbody tr th {\n",
       "        vertical-align: top;\n",
       "    }\n",
       "\n",
       "    .dataframe thead th {\n",
       "        text-align: right;\n",
       "    }\n",
       "</style>\n",
       "<table border=\"1\" class=\"dataframe\">\n",
       "  <thead>\n",
       "    <tr style=\"text-align: right;\">\n",
       "      <th></th>\n",
       "      <th>ds</th>\n",
       "      <th>trend</th>\n",
       "      <th>yhat_lower</th>\n",
       "      <th>yhat_upper</th>\n",
       "      <th>trend_lower</th>\n",
       "      <th>trend_upper</th>\n",
       "      <th>additive_terms</th>\n",
       "      <th>additive_terms_lower</th>\n",
       "      <th>additive_terms_upper</th>\n",
       "      <th>weekly</th>\n",
       "      <th>weekly_lower</th>\n",
       "      <th>weekly_upper</th>\n",
       "      <th>yearly</th>\n",
       "      <th>yearly_lower</th>\n",
       "      <th>yearly_upper</th>\n",
       "      <th>multiplicative_terms</th>\n",
       "      <th>multiplicative_terms_lower</th>\n",
       "      <th>multiplicative_terms_upper</th>\n",
       "      <th>yhat</th>\n",
       "    </tr>\n",
       "  </thead>\n",
       "  <tbody>\n",
       "    <tr>\n",
       "      <th>310</th>\n",
       "      <td>2021-05-02</td>\n",
       "      <td>321.613445</td>\n",
       "      <td>-56.307790</td>\n",
       "      <td>630.568978</td>\n",
       "      <td>321.176067</td>\n",
       "      <td>321.992315</td>\n",
       "      <td>-60.309664</td>\n",
       "      <td>-60.309664</td>\n",
       "      <td>-60.309664</td>\n",
       "      <td>25.438551</td>\n",
       "      <td>25.438551</td>\n",
       "      <td>25.438551</td>\n",
       "      <td>-85.748215</td>\n",
       "      <td>-85.748215</td>\n",
       "      <td>-85.748215</td>\n",
       "      <td>0.0</td>\n",
       "      <td>0.0</td>\n",
       "      <td>0.0</td>\n",
       "      <td>261.303781</td>\n",
       "    </tr>\n",
       "    <tr>\n",
       "      <th>311</th>\n",
       "      <td>2021-05-03</td>\n",
       "      <td>321.645550</td>\n",
       "      <td>-62.078365</td>\n",
       "      <td>588.674932</td>\n",
       "      <td>321.198201</td>\n",
       "      <td>322.033227</td>\n",
       "      <td>-80.977430</td>\n",
       "      <td>-80.977430</td>\n",
       "      <td>-80.977430</td>\n",
       "      <td>-0.848220</td>\n",
       "      <td>-0.848220</td>\n",
       "      <td>-0.848220</td>\n",
       "      <td>-80.129211</td>\n",
       "      <td>-80.129211</td>\n",
       "      <td>-80.129211</td>\n",
       "      <td>0.0</td>\n",
       "      <td>0.0</td>\n",
       "      <td>0.0</td>\n",
       "      <td>240.668120</td>\n",
       "    </tr>\n",
       "    <tr>\n",
       "      <th>312</th>\n",
       "      <td>2021-05-04</td>\n",
       "      <td>321.677656</td>\n",
       "      <td>-141.078002</td>\n",
       "      <td>552.261279</td>\n",
       "      <td>321.221002</td>\n",
       "      <td>322.072688</td>\n",
       "      <td>-108.117285</td>\n",
       "      <td>-108.117285</td>\n",
       "      <td>-108.117285</td>\n",
       "      <td>-33.653651</td>\n",
       "      <td>-33.653651</td>\n",
       "      <td>-33.653651</td>\n",
       "      <td>-74.463634</td>\n",
       "      <td>-74.463634</td>\n",
       "      <td>-74.463634</td>\n",
       "      <td>0.0</td>\n",
       "      <td>0.0</td>\n",
       "      <td>0.0</td>\n",
       "      <td>213.560371</td>\n",
       "    </tr>\n",
       "    <tr>\n",
       "      <th>313</th>\n",
       "      <td>2021-05-05</td>\n",
       "      <td>321.709761</td>\n",
       "      <td>-165.459438</td>\n",
       "      <td>528.713062</td>\n",
       "      <td>321.244826</td>\n",
       "      <td>322.113038</td>\n",
       "      <td>-153.806980</td>\n",
       "      <td>-153.806980</td>\n",
       "      <td>-153.806980</td>\n",
       "      <td>-84.952085</td>\n",
       "      <td>-84.952085</td>\n",
       "      <td>-84.952085</td>\n",
       "      <td>-68.854896</td>\n",
       "      <td>-68.854896</td>\n",
       "      <td>-68.854896</td>\n",
       "      <td>0.0</td>\n",
       "      <td>0.0</td>\n",
       "      <td>0.0</td>\n",
       "      <td>167.902781</td>\n",
       "    </tr>\n",
       "    <tr>\n",
       "      <th>314</th>\n",
       "      <td>2021-05-06</td>\n",
       "      <td>321.741867</td>\n",
       "      <td>-88.998644</td>\n",
       "      <td>576.441160</td>\n",
       "      <td>321.263226</td>\n",
       "      <td>322.152587</td>\n",
       "      <td>-69.108235</td>\n",
       "      <td>-69.108235</td>\n",
       "      <td>-69.108235</td>\n",
       "      <td>-5.696302</td>\n",
       "      <td>-5.696302</td>\n",
       "      <td>-5.696302</td>\n",
       "      <td>-63.411933</td>\n",
       "      <td>-63.411933</td>\n",
       "      <td>-63.411933</td>\n",
       "      <td>0.0</td>\n",
       "      <td>0.0</td>\n",
       "      <td>0.0</td>\n",
       "      <td>252.633632</td>\n",
       "    </tr>\n",
       "  </tbody>\n",
       "</table>\n",
       "</div>"
      ],
      "text/plain": [
       "            ds       trend  yhat_lower  yhat_upper  trend_lower  trend_upper  \\\n",
       "310 2021-05-02  321.613445  -56.307790  630.568978   321.176067   321.992315   \n",
       "311 2021-05-03  321.645550  -62.078365  588.674932   321.198201   322.033227   \n",
       "312 2021-05-04  321.677656 -141.078002  552.261279   321.221002   322.072688   \n",
       "313 2021-05-05  321.709761 -165.459438  528.713062   321.244826   322.113038   \n",
       "314 2021-05-06  321.741867  -88.998644  576.441160   321.263226   322.152587   \n",
       "\n",
       "     additive_terms  additive_terms_lower  additive_terms_upper     weekly  \\\n",
       "310      -60.309664            -60.309664            -60.309664  25.438551   \n",
       "311      -80.977430            -80.977430            -80.977430  -0.848220   \n",
       "312     -108.117285           -108.117285           -108.117285 -33.653651   \n",
       "313     -153.806980           -153.806980           -153.806980 -84.952085   \n",
       "314      -69.108235            -69.108235            -69.108235  -5.696302   \n",
       "\n",
       "     weekly_lower  weekly_upper     yearly  yearly_lower  yearly_upper  \\\n",
       "310     25.438551     25.438551 -85.748215    -85.748215    -85.748215   \n",
       "311     -0.848220     -0.848220 -80.129211    -80.129211    -80.129211   \n",
       "312    -33.653651    -33.653651 -74.463634    -74.463634    -74.463634   \n",
       "313    -84.952085    -84.952085 -68.854896    -68.854896    -68.854896   \n",
       "314     -5.696302     -5.696302 -63.411933    -63.411933    -63.411933   \n",
       "\n",
       "     multiplicative_terms  multiplicative_terms_lower  \\\n",
       "310                   0.0                         0.0   \n",
       "311                   0.0                         0.0   \n",
       "312                   0.0                         0.0   \n",
       "313                   0.0                         0.0   \n",
       "314                   0.0                         0.0   \n",
       "\n",
       "     multiplicative_terms_upper        yhat  \n",
       "310                         0.0  261.303781  \n",
       "311                         0.0  240.668120  \n",
       "312                         0.0  213.560371  \n",
       "313                         0.0  167.902781  \n",
       "314                         0.0  252.633632  "
      ]
     },
     "execution_count": 15,
     "metadata": {},
     "output_type": "execute_result"
    }
   ],
   "source": [
    "forecast = model.predict(future)\n",
    "forecast.tail()"
   ]
  },
  {
   "cell_type": "markdown",
   "id": "44b8ef6d",
   "metadata": {
    "ExecuteTime": {
     "end_time": "2024-04-24T12:32:33.312529Z",
     "start_time": "2024-04-24T12:32:33.303900Z"
    }
   },
   "source": [
    "**We see our original payments in scatter dots, predictions in blue line and colored blue regions are intervals. One may notice that model treats many points of the data as outliers (dots outside blue region)**"
   ]
  },
  {
   "cell_type": "code",
   "execution_count": 16,
   "id": "79dff6d1",
   "metadata": {
    "ExecuteTime": {
     "end_time": "2024-04-24T14:09:49.803241Z",
     "start_time": "2024-04-24T14:09:49.104246Z"
    },
    "scrolled": true
   },
   "outputs": [
    {
     "data": {
      "image/png": "[encoded data removed]",
      "text/plain": [
       "<Figure size 1000x600 with 1 Axes>"
      ]
     },
     "metadata": {
      "image/png": {
       "height": 590,
       "width": 990
      }
     },
     "output_type": "display_data"
    }
   ],
   "source": [
    "model.plot(forecast);"
   ]
  },
  {
   "cell_type": "markdown",
   "id": "ae041f25",
   "metadata": {
    "ExecuteTime": {
     "end_time": "2024-04-24T12:33:28.505426Z",
     "start_time": "2024-04-24T12:33:28.496174Z"
    }
   },
   "source": [
    "Below is component split on **trend**, **weekly** and **yearly** seasonality of our data"
   ]
  },
  {
   "cell_type": "code",
   "execution_count": 17,
   "id": "30978ab1",
   "metadata": {
    "ExecuteTime": {
     "end_time": "2024-04-24T14:09:50.920662Z",
     "start_time": "2024-04-24T14:09:49.808825Z"
    },
    "scrolled": true
   },
   "outputs": [
    {
     "data": {
      "image/png": "[encoded data removed]",
      "text/plain": [
       "<Figure size 900x900 with 3 Axes>"
      ]
     },
     "metadata": {
      "image/png": {
       "height": 890,
       "width": 887
      }
     },
     "output_type": "display_data"
    }
   ],
   "source": [
    "model.plot_components(forecast);"
   ]
  },
  {
   "cell_type": "markdown",
   "id": "21f7d550",
   "metadata": {
    "ExecuteTime": {
     "end_time": "2024-04-24T12:34:25.264301Z",
     "start_time": "2024-04-24T12:34:25.260136Z"
    }
   },
   "source": [
    "## Forecast quality evaluation"
   ]
  },
  {
   "cell_type": "code",
   "execution_count": 18,
   "id": "0187a3eb",
   "metadata": {
    "ExecuteTime": {
     "end_time": "2024-04-24T14:09:50.931415Z",
     "start_time": "2024-04-24T14:09:50.925108Z"
    }
   },
   "outputs": [],
   "source": [
    "def make_comparison_dataframe(historical, forecast):\n",
    "    \"\"\"Join the history with the forecast.\n",
    "\n",
    "       The resulting dataset will contain columns 'yhat', 'yhat_lower', 'yhat_upper' and 'y'.\n",
    "    \"\"\"\n",
    "    return forecast.set_index(\"ds\")[[\"yhat\", \"yhat_lower\", \"yhat_upper\"]].join(\n",
    "        historical.set_index(\"ds\")\n",
    "    )"
   ]
  },
  {
   "cell_type": "code",
   "execution_count": 19,
   "id": "e9297bd2",
   "metadata": {
    "ExecuteTime": {
     "end_time": "2024-04-24T14:09:50.989094Z",
     "start_time": "2024-04-24T14:09:50.936249Z"
    }
   },
   "outputs": [
    {
     "data": {
      "text/html": [
       "<div>\n",
       "<style scoped>\n",
       "    .dataframe tbody tr th:only-of-type {\n",
       "        vertical-align: middle;\n",
       "    }\n",
       "\n",
       "    .dataframe tbody tr th {\n",
       "        vertical-align: top;\n",
       "    }\n",
       "\n",
       "    .dataframe thead th {\n",
       "        text-align: right;\n",
       "    }\n",
       "</style>\n",
       "<table border=\"1\" class=\"dataframe\">\n",
       "  <thead>\n",
       "    <tr style=\"text-align: right;\">\n",
       "      <th></th>\n",
       "      <th>yhat</th>\n",
       "      <th>yhat_lower</th>\n",
       "      <th>yhat_upper</th>\n",
       "      <th>y</th>\n",
       "    </tr>\n",
       "    <tr>\n",
       "      <th>ds</th>\n",
       "      <th></th>\n",
       "      <th></th>\n",
       "      <th></th>\n",
       "      <th></th>\n",
       "    </tr>\n",
       "  </thead>\n",
       "  <tbody>\n",
       "    <tr>\n",
       "      <th>2021-05-02</th>\n",
       "      <td>261.303781</td>\n",
       "      <td>-56.307790</td>\n",
       "      <td>630.568978</td>\n",
       "      <td>NaN</td>\n",
       "    </tr>\n",
       "    <tr>\n",
       "      <th>2021-05-03</th>\n",
       "      <td>240.668120</td>\n",
       "      <td>-62.078365</td>\n",
       "      <td>588.674932</td>\n",
       "      <td>190.000000</td>\n",
       "    </tr>\n",
       "    <tr>\n",
       "      <th>2021-05-04</th>\n",
       "      <td>213.560371</td>\n",
       "      <td>-141.078002</td>\n",
       "      <td>552.261279</td>\n",
       "      <td>311.133333</td>\n",
       "    </tr>\n",
       "    <tr>\n",
       "      <th>2021-05-05</th>\n",
       "      <td>167.902781</td>\n",
       "      <td>-165.459438</td>\n",
       "      <td>528.713062</td>\n",
       "      <td>86.116667</td>\n",
       "    </tr>\n",
       "    <tr>\n",
       "      <th>2021-05-06</th>\n",
       "      <td>252.633632</td>\n",
       "      <td>-88.998644</td>\n",
       "      <td>576.441160</td>\n",
       "      <td>NaN</td>\n",
       "    </tr>\n",
       "  </tbody>\n",
       "</table>\n",
       "</div>"
      ],
      "text/plain": [
       "                  yhat  yhat_lower  yhat_upper           y\n",
       "ds                                                        \n",
       "2021-05-02  261.303781  -56.307790  630.568978         NaN\n",
       "2021-05-03  240.668120  -62.078365  588.674932  190.000000\n",
       "2021-05-04  213.560371 -141.078002  552.261279  311.133333\n",
       "2021-05-05  167.902781 -165.459438  528.713062   86.116667\n",
       "2021-05-06  252.633632  -88.998644  576.441160         NaN"
      ]
     },
     "execution_count": 19,
     "metadata": {},
     "output_type": "execute_result"
    }
   ],
   "source": [
    "cmp_df = make_comparison_dataframe(df, forecast)\n",
    "cmp_df.tail()"
   ]
  },
  {
   "cell_type": "markdown",
   "id": "f825b742",
   "metadata": {
    "ExecuteTime": {
     "end_time": "2024-04-24T13:43:01.158648Z",
     "start_time": "2024-04-24T13:43:01.151098Z"
    }
   },
   "source": [
    "$MAPE = \\frac{1}{n} \\sum_{t=1}^{n} \\left| \\frac{A_t - F_t}{A_t} \\right| \\times 100$\n",
    "\n",
    "$MAE = \\frac{1}{n} \\sum_{i=1}^{n} \\left| A_i - F_i \\right|$\n",
    "\n",
    "\n",
    "$A_t$  is the actual value at time \n",
    "\n",
    "$F_t$  is the forecasted/predicted value at time \n",
    "\n",
    "$n$ is the total number of observations."
   ]
  },
  {
   "cell_type": "code",
   "execution_count": 20,
   "id": "4663d3de",
   "metadata": {
    "ExecuteTime": {
     "end_time": "2024-04-24T14:09:51.008843Z",
     "start_time": "2024-04-24T14:09:50.996981Z"
    }
   },
   "outputs": [],
   "source": [
    "def calculate_forecast_errors(df, prediction_size):\n",
    "    \"\"\"Calculate MAPE and MAE of the forecast.\n",
    "\n",
    "       Args:\n",
    "           df: joined dataset with 'y' and 'yhat' columns.\n",
    "           prediction_size: number of days at the end to predict.\n",
    "    \"\"\"\n",
    "\n",
    "    # Make a copy\n",
    "    df = df.copy()\n",
    "\n",
    "    # Formulas for MAE and MAPE\n",
    "    df[\"e\"] = df[\"y\"] - df[\"yhat\"]\n",
    "    df[\"p\"] = 100 * df[\"e\"] / df[\"y\"]\n",
    "\n",
    "    # Recall that we held out the values of the last `prediction_size` days\n",
    "    # in order to predict them and measure the quality of the model.\n",
    "\n",
    "    # Now cut out the part of the data which we made our prediction for.\n",
    "    predicted_part = df[-prediction_size:]\n",
    "\n",
    "    # Define the function that averages absolute error values over the predicted part.\n",
    "    error_mean = lambda error_name: np.mean(np.abs(predicted_part[error_name]))\n",
    "\n",
    "    # Now we can calculate MAPE and MAE and return the resulting dictionary of errors.\n",
    "    return {\"MAPE\": error_mean(\"p\"), \"MAE\": error_mean(\"e\")}"
   ]
  },
  {
   "cell_type": "code",
   "execution_count": 21,
   "id": "b5063531",
   "metadata": {
    "ExecuteTime": {
     "end_time": "2024-04-24T14:09:51.040840Z",
     "start_time": "2024-04-24T14:09:51.014290Z"
    }
   },
   "outputs": [
    {
     "name": "stdout",
     "output_type": "stream",
     "text": [
      "MAPE 54.45853915926386\n",
      "MAE 131.7330380401877\n"
     ]
    }
   ],
   "source": [
    "for err_name, err_value in calculate_forecast_errors(cmp_df, prediction_size).items():\n",
    "    print(err_name, err_value)"
   ]
  },
  {
   "cell_type": "code",
   "execution_count": 22,
   "id": "5d609d8d",
   "metadata": {
    "ExecuteTime": {
     "end_time": "2024-04-24T14:09:51.074361Z",
     "start_time": "2024-04-24T14:09:51.046130Z"
    }
   },
   "outputs": [],
   "source": [
    "def show_forecast(cmp_df, num_predictions, num_values, title, width=800, height=500):\n",
    "    try:\n",
    "        \"\"\"Visualize the forecast.\"\"\"\n",
    "\n",
    "        def create_go(name, column, num, **kwargs):\n",
    "            points = cmp_df.tail(num)\n",
    "            args = dict(name=name, x=points.index, y=points[column], mode=\"lines\")\n",
    "            args.update(kwargs)\n",
    "            return go.Scatter(**args)\n",
    "\n",
    "        lower_bound = create_go(\n",
    "            \"Lower Bound\",\n",
    "            \"yhat_lower\",\n",
    "            num_predictions,\n",
    "            line=dict(width=0),\n",
    "            marker=dict(color=\"gray\"),\n",
    "        )\n",
    "        upper_bound = create_go(\n",
    "            \"Upper Bound\",\n",
    "            \"yhat_upper\",\n",
    "            num_predictions,\n",
    "            line=dict(width=0),\n",
    "            marker=dict(color=\"gray\"),\n",
    "            fillcolor=\"rgba(68, 68, 68, 0.3)\",\n",
    "            fill=\"tonexty\",\n",
    "        )\n",
    "        forecast = create_go(\n",
    "            \"Forecast\", \"yhat\", num_predictions, line=dict(color=\"rgb(31, 119, 180)\")\n",
    "        )\n",
    "        actual = create_go(\"Actual\", \"y\", num_values, marker=dict(color=\"red\"))\n",
    "\n",
    "        # In this case the order of the series is important because of the filling\n",
    "        data = [lower_bound, upper_bound, forecast, actual]\n",
    "\n",
    "        layout = go.Layout(yaxis=dict(title=\"Posts\"), title=title, showlegend=False)\n",
    "        fig = go.Figure(data=data, layout=layout)\n",
    "\n",
    "        # in a Jupyter Notebook, the following should work\n",
    "        iplot(fig, show_link=False)\n",
    "\n",
    "        # in a Jupyter Book, we save a plot offline and then render it with IFrame\n",
    "        plot_path = f\"../../_static/plotly_htmls/{title}.html\".replace(\" \", \"_\")\n",
    "        plot(fig, filename=plot_path, show_link=False, auto_open=False);\n",
    "        display(IFrame(plot_path, width=width, height=height))\n",
    "    except:\n",
    "        pass\n"
   ]
  },
  {
   "cell_type": "code",
   "execution_count": 23,
   "id": "186848bd",
   "metadata": {
    "ExecuteTime": {
     "end_time": "2024-04-24T14:09:51.197246Z",
     "start_time": "2024-04-24T14:09:51.080656Z"
    },
    "scrolled": true
   },
   "outputs": [
    {
     "data": {
      "application/vnd.plotly.v1+json": {
       "config": {
        "linkText": "Export to plot.ly",
        "plotlyServerURL": "https://plot.ly",
        "showLink": false
       },
       "data": [
        {
         "line": {
          "width": 0
         },
         "marker": {
          "color": "gray"
         },
         "mode": "lines",
         "name": "Lower Bound",
         "type": "scatter",
         "x": [
          "2021-02-22T00:00:00",
          "2021-02-23T00:00:00",
          "2021-02-24T00:00:00",
          "2021-02-25T00:00:00",
          "2021-02-26T00:00:00",
          "2021-02-27T00:00:00",
          "2021-02-28T00:00:00",
          "2021-03-01T00:00:00",
          "2021-03-02T00:00:00",
          "2021-03-03T00:00:00",
          "2021-03-04T00:00:00",
          "2021-03-05T00:00:00",
          "2021-03-06T00:00:00",
          "2021-03-07T00:00:00",
          "2021-03-08T00:00:00",
          "2021-03-09T00:00:00",
          "2021-03-10T00:00:00",
          "2021-03-11T00:00:00",
          "2021-03-12T00:00:00",
          "2021-03-13T00:00:00",
          "2021-03-14T00:00:00",
          "2021-03-15T00:00:00",
          "2021-03-16T00:00:00",
          "2021-03-17T00:00:00",
          "2021-03-18T00:00:00",
          "2021-03-19T00:00:00",
          "2021-03-20T00:00:00",
          "2021-03-21T00:00:00",
          "2021-03-22T00:00:00",
          "2021-03-23T00:00:00",
          "2021-03-24T00:00:00",
          "2021-03-25T00:00:00",
          "2021-03-26T00:00:00",
          "2021-03-27T00:00:00",
          "2021-03-28T00:00:00",
          "2021-03-29T00:00:00",
          "2021-03-30T00:00:00",
          "2021-03-31T00:00:00",
          "2021-04-01T00:00:00",
          "2021-04-02T00:00:00",
          "2021-04-03T00:00:00",
          "2021-04-04T00:00:00",
          "2021-04-05T00:00:00",
          "2021-04-06T00:00:00",
          "2021-04-07T00:00:00",
          "2021-04-08T00:00:00",
          "2021-04-09T00:00:00",
          "2021-04-10T00:00:00",
          "2021-04-11T00:00:00",
          "2021-04-12T00:00:00",
          "2021-04-13T00:00:00",
          "2021-04-14T00:00:00",
          "2021-04-15T00:00:00",
          "2021-04-16T00:00:00",
          "2021-04-17T00:00:00",
          "2021-04-18T00:00:00",
          "2021-04-19T00:00:00",
          "2021-04-20T00:00:00",
          "2021-04-21T00:00:00",
          "2021-04-22T00:00:00",
          "2021-04-23T00:00:00",
          "2021-04-24T00:00:00",
          "2021-04-25T00:00:00",
          "2021-04-26T00:00:00",
          "2021-04-27T00:00:00",
          "2021-04-28T00:00:00",
          "2021-04-29T00:00:00",
          "2021-04-30T00:00:00",
          "2021-05-01T00:00:00",
          "2021-05-02T00:00:00",
          "2021-05-03T00:00:00",
          "2021-05-04T00:00:00",
          "2021-05-05T00:00:00",
          "2021-05-06T00:00:00"
         ],
         "y": [
          -87.9086675342582,
          -97.04086569463391,
          -174.86046507031054,
          -47.52860042155947,
          60.27718603317908,
          -101.36553258499,
          -55.270551667126774,
          -68.2636049616216,
          -109.59830604393238,
          -142.79931732995152,
          -74.75677936425481,
          68.45004454514799,
          -99.79615181950133,
          -50.27214316793777,
          -91.43145541309613,
          -123.34751104443798,
          -185.7334658942237,
          -89.02224879648558,
          24.31139892701748,
          -156.6964378021878,
          -69.73681706158338,
          -128.9821189471592,
          -154.69510867368106,
          -250.00066950175813,
          -174.7710566390048,
          -47.85881806339534,
          -215.36193797213602,
          -175.55308081227437,
          -180.72202165914655,
          -222.3475328643441,
          -281.190426666612,
          -176.7548026161702,
          -59.268175241947944,
          -214.26436871817728,
          -162.6842429860475,
          -180.19668900907172,
          -226.60553552035486,
          -277.2218673843647,
          -206.5445998973578,
          -68.99299540827536,
          -231.01777820227204,
          -163.4779709805682,
          -183.74727782479124,
          -203.83255169123595,
          -260.4860096959619,
          -202.60686600183584,
          -77.38115358448091,
          -180.11204682484262,
          -133.27873378931716,
          -179.45665700805597,
          -186.9934773466443,
          -249.12443954071293,
          -183.8215519315927,
          -32.47050706007918,
          -206.63578147344322,
          -110.6774514624496,
          -170.62507078015722,
          -165.31967619779832,
          -212.99444222087772,
          -154.78556349542154,
          16.427741790575567,
          -187.14882429729383,
          -120.99797316735604,
          -143.22351216647832,
          -150.74513753240132,
          -191.7069180743411,
          -124.8481117737861,
          23.923800412536362,
          -137.363432058832,
          -56.30779035281069,
          -62.07836511906853,
          -141.07800187619296,
          -165.45943807232155,
          -88.99864394168182
         ]
        },
        {
         "fill": "tonexty",
         "fillcolor": "rgba(68, 68, 68, 0.3)",
         "line": {
          "width": 0
         },
         "marker": {
          "color": "gray"
         },
         "mode": "lines",
         "name": "Upper Bound",
         "type": "scatter",
         "x": [
          "2021-02-22T00:00:00",
          "2021-02-23T00:00:00",
          "2021-02-24T00:00:00",
          "2021-02-25T00:00:00",
          "2021-02-26T00:00:00",
          "2021-02-27T00:00:00",
          "2021-02-28T00:00:00",
          "2021-03-01T00:00:00",
          "2021-03-02T00:00:00",
          "2021-03-03T00:00:00",
          "2021-03-04T00:00:00",
          "2021-03-05T00:00:00",
          "2021-03-06T00:00:00",
          "2021-03-07T00:00:00",
          "2021-03-08T00:00:00",
          "2021-03-09T00:00:00",
          "2021-03-10T00:00:00",
          "2021-03-11T00:00:00",
          "2021-03-12T00:00:00",
          "2021-03-13T00:00:00",
          "2021-03-14T00:00:00",
          "2021-03-15T00:00:00",
          "2021-03-16T00:00:00",
          "2021-03-17T00:00:00",
          "2021-03-18T00:00:00",
          "2021-03-19T00:00:00",
          "2021-03-20T00:00:00",
          "2021-03-21T00:00:00",
          "2021-03-22T00:00:00",
          "2021-03-23T00:00:00",
          "2021-03-24T00:00:00",
          "2021-03-25T00:00:00",
          "2021-03-26T00:00:00",
          "2021-03-27T00:00:00",
          "2021-03-28T00:00:00",
          "2021-03-29T00:00:00",
          "2021-03-30T00:00:00",
          "2021-03-31T00:00:00",
          "2021-04-01T00:00:00",
          "2021-04-02T00:00:00",
          "2021-04-03T00:00:00",
          "2021-04-04T00:00:00",
          "2021-04-05T00:00:00",
          "2021-04-06T00:00:00",
          "2021-04-07T00:00:00",
          "2021-04-08T00:00:00",
          "2021-04-09T00:00:00",
          "2021-04-10T00:00:00",
          "2021-04-11T00:00:00",
          "2021-04-12T00:00:00",
          "2021-04-13T00:00:00",
          "2021-04-14T00:00:00",
          "2021-04-15T00:00:00",
          "2021-04-16T00:00:00",
          "2021-04-17T00:00:00",
          "2021-04-18T00:00:00",
          "2021-04-19T00:00:00",
          "2021-04-20T00:00:00",
          "2021-04-21T00:00:00",
          "2021-04-22T00:00:00",
          "2021-04-23T00:00:00",
          "2021-04-24T00:00:00",
          "2021-04-25T00:00:00",
          "2021-04-26T00:00:00",
          "2021-04-27T00:00:00",
          "2021-04-28T00:00:00",
          "2021-04-29T00:00:00",
          "2021-04-30T00:00:00",
          "2021-05-01T00:00:00",
          "2021-05-02T00:00:00",
          "2021-05-03T00:00:00",
          "2021-05-04T00:00:00",
          "2021-05-05T00:00:00",
          "2021-05-06T00:00:00"
         ],
         "y": [
          588.9748603616781,
          565.6371561995261,
          512.6559997282709,
          620.5687223243074,
          747.7384420031268,
          586.8622236319721,
          648.0660623148624,
          594.3350805746803,
          555.7264826186029,
          536.8585883046997,
          599.9323800126955,
          744.2494969974273,
          572.2801103107613,
          615.8260890843694,
          596.696507660737,
          580.5498092497057,
          492.42171040593826,
          576.5441957506165,
          709.6229192717027,
          514.0004030947013,
          579.7698582105579,
          520.0769302254976,
          504.7434433886672,
          451.61149455065083,
          523.3058340776693,
          653.8732319304887,
          483.208334244498,
          532.4907272988555,
          484.77626841391964,
          473.1728660452505,
          410.8309293628465,
          505.3915537141122,
          624.7199330187383,
          443.59810840277714,
          520.3165276715713,
          476.37167194637266,
          438.7177365456098,
          400.1568623825116,
          465.62356326949737,
          610.5844036124577,
          462.0825891080829,
          499.65846724740425,
          516.6886966048415,
          474.919995268084,
          395.6090857888912,
          517.0954667686245,
          650.2639230911439,
          455.86151030207157,
          553.2004931827875,
          513.5904083144642,
          495.66549271257304,
          446.7047451539205,
          499.74388694505853,
          650.6126188199935,
          480.32985869359436,
          550.9985128215392,
          549.5461299924709,
          509.54729699119537,
          451.85904908229264,
          521.0354945002558,
          699.2097918360874,
          463.0898425694737,
          585.779450370831,
          543.819550115954,
          540.6065266578587,
          480.4924696082107,
          544.2560629017819,
          688.5991847269202,
          544.7425253275363,
          630.5689783521638,
          588.6749323016888,
          552.2612790341066,
          528.7130624730104,
          576.4411599110325
         ]
        },
        {
         "line": {
          "color": "rgb(31, 119, 180)"
         },
         "mode": "lines",
         "name": "Forecast",
         "type": "scatter",
         "x": [
          "2021-02-22T00:00:00",
          "2021-02-23T00:00:00",
          "2021-02-24T00:00:00",
          "2021-02-25T00:00:00",
          "2021-02-26T00:00:00",
          "2021-02-27T00:00:00",
          "2021-02-28T00:00:00",
          "2021-03-01T00:00:00",
          "2021-03-02T00:00:00",
          "2021-03-03T00:00:00",
          "2021-03-04T00:00:00",
          "2021-03-05T00:00:00",
          "2021-03-06T00:00:00",
          "2021-03-07T00:00:00",
          "2021-03-08T00:00:00",
          "2021-03-09T00:00:00",
          "2021-03-10T00:00:00",
          "2021-03-11T00:00:00",
          "2021-03-12T00:00:00",
          "2021-03-13T00:00:00",
          "2021-03-14T00:00:00",
          "2021-03-15T00:00:00",
          "2021-03-16T00:00:00",
          "2021-03-17T00:00:00",
          "2021-03-18T00:00:00",
          "2021-03-19T00:00:00",
          "2021-03-20T00:00:00",
          "2021-03-21T00:00:00",
          "2021-03-22T00:00:00",
          "2021-03-23T00:00:00",
          "2021-03-24T00:00:00",
          "2021-03-25T00:00:00",
          "2021-03-26T00:00:00",
          "2021-03-27T00:00:00",
          "2021-03-28T00:00:00",
          "2021-03-29T00:00:00",
          "2021-03-30T00:00:00",
          "2021-03-31T00:00:00",
          "2021-04-01T00:00:00",
          "2021-04-02T00:00:00",
          "2021-04-03T00:00:00",
          "2021-04-04T00:00:00",
          "2021-04-05T00:00:00",
          "2021-04-06T00:00:00",
          "2021-04-07T00:00:00",
          "2021-04-08T00:00:00",
          "2021-04-09T00:00:00",
          "2021-04-10T00:00:00",
          "2021-04-11T00:00:00",
          "2021-04-12T00:00:00",
          "2021-04-13T00:00:00",
          "2021-04-14T00:00:00",
          "2021-04-15T00:00:00",
          "2021-04-16T00:00:00",
          "2021-04-17T00:00:00",
          "2021-04-18T00:00:00",
          "2021-04-19T00:00:00",
          "2021-04-20T00:00:00",
          "2021-04-21T00:00:00",
          "2021-04-22T00:00:00",
          "2021-04-23T00:00:00",
          "2021-04-24T00:00:00",
          "2021-04-25T00:00:00",
          "2021-04-26T00:00:00",
          "2021-04-27T00:00:00",
          "2021-04-28T00:00:00",
          "2021-04-29T00:00:00",
          "2021-04-30T00:00:00",
          "2021-05-01T00:00:00",
          "2021-05-02T00:00:00",
          "2021-05-03T00:00:00",
          "2021-05-04T00:00:00",
          "2021-05-05T00:00:00",
          "2021-05-06T00:00:00"
         ],
         "y": [
          268.44161930400844,
          234.45404142931554,
          182.3612284408724,
          261.1330143890484,
          402.4988791985899,
          230.1846038562683,
          291.69409630430346,
          265.13838513400697,
          231.83363925037813,
          179.69583839934475,
          257.67177091674876,
          397.4963396621696,
          222.9286885811797,
          281.5325854697377,
          251.5031193847035,
          214.2616583833596,
          157.8468030834503,
          231.34114230320924,
          366.62393659927363,
          187.60239719841817,
          241.98715612124346,
          208.1141461700269,
          167.53499164255823,
          108.40379047008054,
          179.90022479726252,
          313.97923806448375,
          134.60003647267794,
          189.50007641365207,
          157.01629592195403,
          118.6757029257079,
          62.58318534061209,
          137.84643751568086,
          276.3281733838421,
          101.87829360876734,
          162.11155801359254,
          135.2328950398241,
          102.63232289318304,
          52.277202075300465,
          133.14156600599364,
          276.96255464386144,
          107.47648005678047,
          172.19994845073444,
          149.25805928921784,
          119.98156426201402,
          72.30063605913105,
          155.17494824350172,
          300.3500715001556,
          131.59272187701288,
          196.47031826064244,
          173.17692731445572,
          143.12755922659267,
          94.3485650474091,
          175.90395469106906,
          319.6477716428202,
          149.45519947136484,
          212.99800095222471,
          188.56651090200944,
          157.66028354666545,
          108.37527268531306,
          189.82747695512666,
          333.9032814030596,
          164.48924435216625,
          229.2469803799798,
          206.43538492569894,
          177.50229913048904,
          130.47346430627235,
          214.37864351237369,
          361.00506237157515,
          194.1308171157408,
          261.30378100708435,
          240.66812000830473,
          213.56037105398372,
          167.90278109476665,
          252.63363215213923
         ]
        },
        {
         "marker": {
          "color": "red"
         },
         "mode": "lines",
         "name": "Actual",
         "type": "scatter",
         "x": [
          "2021-01-20T00:00:00",
          "2021-01-22T00:00:00",
          "2021-01-23T00:00:00",
          "2021-01-24T00:00:00",
          "2021-01-25T00:00:00",
          "2021-01-26T00:00:00",
          "2021-01-27T00:00:00",
          "2021-01-28T00:00:00",
          "2021-01-29T00:00:00",
          "2021-01-31T00:00:00",
          "2021-02-01T00:00:00",
          "2021-02-03T00:00:00",
          "2021-02-04T00:00:00",
          "2021-02-05T00:00:00",
          "2021-02-06T00:00:00",
          "2021-02-07T00:00:00",
          "2021-02-08T00:00:00",
          "2021-02-10T00:00:00",
          "2021-02-11T00:00:00",
          "2021-02-13T00:00:00",
          "2021-02-15T00:00:00",
          "2021-02-17T00:00:00",
          "2021-02-18T00:00:00",
          "2021-02-19T00:00:00",
          "2021-02-20T00:00:00",
          "2021-02-21T00:00:00",
          "2021-02-22T00:00:00",
          "2021-02-23T00:00:00",
          "2021-02-24T00:00:00",
          "2021-02-25T00:00:00",
          "2021-02-26T00:00:00",
          "2021-02-27T00:00:00",
          "2021-02-28T00:00:00",
          "2021-03-01T00:00:00",
          "2021-03-02T00:00:00",
          "2021-03-03T00:00:00",
          "2021-03-04T00:00:00",
          "2021-03-05T00:00:00",
          "2021-03-06T00:00:00",
          "2021-03-07T00:00:00",
          "2021-03-08T00:00:00",
          "2021-03-09T00:00:00",
          "2021-03-10T00:00:00",
          "2021-03-11T00:00:00",
          "2021-03-12T00:00:00",
          "2021-03-13T00:00:00",
          "2021-03-14T00:00:00",
          "2021-03-15T00:00:00",
          "2021-03-16T00:00:00",
          "2021-03-17T00:00:00",
          "2021-03-18T00:00:00",
          "2021-03-19T00:00:00",
          "2021-03-20T00:00:00",
          "2021-03-21T00:00:00",
          "2021-03-22T00:00:00",
          "2021-03-23T00:00:00",
          "2021-03-24T00:00:00",
          "2021-03-25T00:00:00",
          "2021-03-26T00:00:00",
          "2021-03-27T00:00:00",
          "2021-03-28T00:00:00",
          "2021-03-29T00:00:00",
          "2021-03-30T00:00:00",
          "2021-03-31T00:00:00",
          "2021-04-01T00:00:00",
          "2021-04-02T00:00:00",
          "2021-04-03T00:00:00",
          "2021-04-04T00:00:00",
          "2021-04-05T00:00:00",
          "2021-04-06T00:00:00",
          "2021-04-07T00:00:00",
          "2021-04-08T00:00:00",
          "2021-04-09T00:00:00",
          "2021-04-10T00:00:00",
          "2021-04-11T00:00:00",
          "2021-04-12T00:00:00",
          "2021-04-13T00:00:00",
          "2021-04-14T00:00:00",
          "2021-04-15T00:00:00",
          "2021-04-16T00:00:00",
          "2021-04-17T00:00:00",
          "2021-04-18T00:00:00",
          "2021-04-19T00:00:00",
          "2021-04-20T00:00:00",
          "2021-04-21T00:00:00",
          "2021-04-22T00:00:00",
          "2021-04-23T00:00:00",
          "2021-04-24T00:00:00",
          "2021-04-25T00:00:00",
          "2021-04-26T00:00:00",
          "2021-04-27T00:00:00",
          "2021-04-28T00:00:00",
          "2021-04-29T00:00:00",
          "2021-04-30T00:00:00",
          "2021-05-01T00:00:00",
          "2021-05-02T00:00:00",
          "2021-05-03T00:00:00",
          "2021-05-04T00:00:00",
          "2021-05-05T00:00:00",
          "2021-05-06T00:00:00"
         ],
         "y": [
          270,
          383.3333333333333,
          200,
          217.5,
          100,
          115,
          305,
          285,
          260,
          185,
          135,
          343.3333333333333,
          550,
          390,
          360,
          300,
          305,
          690,
          345,
          650,
          690,
          635,
          220,
          950,
          140,
          350,
          460,
          null,
          null,
          null,
          605,
          null,
          430,
          51.5,
          360,
          515,
          205,
          300,
          160,
          425,
          310,
          350,
          480,
          105,
          null,
          230,
          360,
          270,
          332.5,
          170.25,
          120,
          205.71428571428572,
          343.3333333333333,
          352.3333333333333,
          null,
          115,
          274.5,
          240,
          425.875,
          600,
          null,
          230.76666666666665,
          472.3,
          209.64999999999998,
          125.725,
          560,
          94.4,
          null,
          151.9,
          null,
          402.23333333333335,
          94.45,
          288.5,
          null,
          157.2,
          104.775,
          null,
          249.4625,
          null,
          275.3625,
          null,
          83.8,
          115.5,
          303.8,
          303.76666666666665,
          null,
          205.0666666666667,
          null,
          309.54999999999995,
          159.70833333333334,
          71.6,
          302.6666666666667,
          471.06666666666666,
          312.0285714285714,
          288.1166666666667,
          null,
          190,
          311.1333333333334,
          86.11666666666667,
          null
         ]
        }
       ],
       "layout": {
        "showlegend": false,
        "template": {
         "data": {
          "bar": [
           {
            "error_x": {
             "color": "#2a3f5f"
            },
            "error_y": {
             "color": "#2a3f5f"
            },
            "marker": {
             "line": {
              "color": "#E5ECF6",
              "width": 0.5
             },
             "pattern": {
              "fillmode": "overlay",
              "size": 10,
              "solidity": 0.2
             }
            },
            "type": "bar"
           }
          ],
          "barpolar": [
           {
            "marker": {
             "line": {
              "color": "#E5ECF6",
              "width": 0.5
             },
             "pattern": {
              "fillmode": "overlay",
              "size": 10,
              "solidity": 0.2
             }
            },
            "type": "barpolar"
           }
          ],
          "carpet": [
           {
            "aaxis": {
             "endlinecolor": "#2a3f5f",
             "gridcolor": "white",
             "linecolor": "white",
             "minorgridcolor": "white",
             "startlinecolor": "#2a3f5f"
            },
            "baxis": {
             "endlinecolor": "#2a3f5f",
             "gridcolor": "white",
             "linecolor": "white",
             "minorgridcolor": "white",
             "startlinecolor": "#2a3f5f"
            },
            "type": "carpet"
           }
          ],
          "choropleth": [
           {
            "colorbar": {
             "outlinewidth": 0,
             "ticks": ""
            },
            "type": "choropleth"
           }
          ],
          "contour": [
           {
            "colorbar": {
             "outlinewidth": 0,
             "ticks": ""
            },
            "colorscale": [
             [
              0,
              "#0d0887"
             ],
             [
              0.1111111111111111,
              "#46039f"
             ],
             [
              0.2222222222222222,
              "#7201a8"
             ],
             [
              0.3333333333333333,
              "#9c179e"
             ],
             [
              0.4444444444444444,
              "#bd3786"
             ],
             [
              0.5555555555555556,
              "#d8576b"
             ],
             [
              0.6666666666666666,
              "#ed7953"
             ],
             [
              0.7777777777777778,
              "#fb9f3a"
             ],
             [
              0.8888888888888888,
              "#fdca26"
             ],
             [
              1,
              "#f0f921"
             ]
            ],
            "type": "contour"
           }
          ],
          "contourcarpet": [
           {
            "colorbar": {
             "outlinewidth": 0,
             "ticks": ""
            },
            "type": "contourcarpet"
           }
          ],
          "heatmap": [
           {
            "colorbar": {
             "outlinewidth": 0,
             "ticks": ""
            },
            "colorscale": [
             [
              0,
              "#0d0887"
             ],
             [
              0.1111111111111111,
              "#46039f"
             ],
             [
              0.2222222222222222,
              "#7201a8"
             ],
             [
              0.3333333333333333,
              "#9c179e"
             ],
             [
              0.4444444444444444,
              "#bd3786"
             ],
             [
              0.5555555555555556,
              "#d8576b"
             ],
             [
              0.6666666666666666,
              "#ed7953"
             ],
             [
              0.7777777777777778,
              "#fb9f3a"
             ],
             [
              0.8888888888888888,
              "#fdca26"
             ],
             [
              1,
              "#f0f921"
             ]
            ],
            "type": "heatmap"
           }
          ],
          "heatmapgl": [
           {
            "colorbar": {
             "outlinewidth": 0,
             "ticks": ""
            },
            "colorscale": [
             [
              0,
              "#0d0887"
             ],
             [
              0.1111111111111111,
              "#46039f"
             ],
             [
              0.2222222222222222,
              "#7201a8"
             ],
             [
              0.3333333333333333,
              "#9c179e"
             ],
             [
              0.4444444444444444,
              "#bd3786"
             ],
             [
              0.5555555555555556,
              "#d8576b"
             ],
             [
              0.6666666666666666,
              "#ed7953"
             ],
             [
              0.7777777777777778,
              "#fb9f3a"
             ],
             [
              0.8888888888888888,
              "#fdca26"
             ],
             [
              1,
              "#f0f921"
             ]
            ],
            "type": "heatmapgl"
           }
          ],
          "histogram": [
           {
            "marker": {
             "pattern": {
              "fillmode": "overlay",
              "size": 10,
              "solidity": 0.2
             }
            },
            "type": "histogram"
           }
          ],
          "histogram2d": [
           {
            "colorbar": {
             "outlinewidth": 0,
             "ticks": ""
            },
            "colorscale": [
             [
              0,
              "#0d0887"
             ],
             [
              0.1111111111111111,
              "#46039f"
             ],
             [
              0.2222222222222222,
              "#7201a8"
             ],
             [
              0.3333333333333333,
              "#9c179e"
             ],
             [
              0.4444444444444444,
              "#bd3786"
             ],
             [
              0.5555555555555556,
              "#d8576b"
             ],
             [
              0.6666666666666666,
              "#ed7953"
             ],
             [
              0.7777777777777778,
              "#fb9f3a"
             ],
             [
              0.8888888888888888,
              "#fdca26"
             ],
             [
              1,
              "#f0f921"
             ]
            ],
            "type": "histogram2d"
           }
          ],
          "histogram2dcontour": [
           {
            "colorbar": {
             "outlinewidth": 0,
             "ticks": ""
            },
            "colorscale": [
             [
              0,
              "#0d0887"
             ],
             [
              0.1111111111111111,
              "#46039f"
             ],
             [
              0.2222222222222222,
              "#7201a8"
             ],
             [
              0.3333333333333333,
              "#9c179e"
             ],
             [
              0.4444444444444444,
              "#bd3786"
             ],
             [
              0.5555555555555556,
              "#d8576b"
             ],
             [
              0.6666666666666666,
              "#ed7953"
             ],
             [
              0.7777777777777778,
              "#fb9f3a"
             ],
             [
              0.8888888888888888,
              "#fdca26"
             ],
             [
              1,
              "#f0f921"
             ]
            ],
            "type": "histogram2dcontour"
           }
          ],
          "mesh3d": [
           {
            "colorbar": {
             "outlinewidth": 0,
             "ticks": ""
            },
            "type": "mesh3d"
           }
          ],
          "parcoords": [
           {
            "line": {
             "colorbar": {
              "outlinewidth": 0,
              "ticks": ""
             }
            },
            "type": "parcoords"
           }
          ],
          "pie": [
           {
            "automargin": true,
            "type": "pie"
           }
          ],
          "scatter": [
           {
            "fillpattern": {
             "fillmode": "overlay",
             "size": 10,
             "solidity": 0.2
            },
            "type": "scatter"
           }
          ],
          "scatter3d": [
           {
            "line": {
             "colorbar": {
              "outlinewidth": 0,
              "ticks": ""
             }
            },
            "marker": {
             "colorbar": {
              "outlinewidth": 0,
              "ticks": ""
             }
            },
            "type": "scatter3d"
           }
          ],
          "scattercarpet": [
           {
            "marker": {
             "colorbar": {
              "outlinewidth": 0,
              "ticks": ""
             }
            },
            "type": "scattercarpet"
           }
          ],
          "scattergeo": [
           {
            "marker": {
             "colorbar": {
              "outlinewidth": 0,
              "ticks": ""
             }
            },
            "type": "scattergeo"
           }
          ],
          "scattergl": [
           {
            "marker": {
             "colorbar": {
              "outlinewidth": 0,
              "ticks": ""
             }
            },
            "type": "scattergl"
           }
          ],
          "scattermapbox": [
           {
            "marker": {
             "colorbar": {
              "outlinewidth": 0,
              "ticks": ""
             }
            },
            "type": "scattermapbox"
           }
          ],
          "scatterpolar": [
           {
            "marker": {
             "colorbar": {
              "outlinewidth": 0,
              "ticks": ""
             }
            },
            "type": "scatterpolar"
           }
          ],
          "scatterpolargl": [
           {
            "marker": {
             "colorbar": {
              "outlinewidth": 0,
              "ticks": ""
             }
            },
            "type": "scatterpolargl"
           }
          ],
          "scatterternary": [
           {
            "marker": {
             "colorbar": {
              "outlinewidth": 0,
              "ticks": ""
             }
            },
            "type": "scatterternary"
           }
          ],
          "surface": [
           {
            "colorbar": {
             "outlinewidth": 0,
             "ticks": ""
            },
            "colorscale": [
             [
              0,
              "#0d0887"
             ],
             [
              0.1111111111111111,
              "#46039f"
             ],
             [
              0.2222222222222222,
              "#7201a8"
             ],
             [
              0.3333333333333333,
              "#9c179e"
             ],
             [
              0.4444444444444444,
              "#bd3786"
             ],
             [
              0.5555555555555556,
              "#d8576b"
             ],
             [
              0.6666666666666666,
              "#ed7953"
             ],
             [
              0.7777777777777778,
              "#fb9f3a"
             ],
             [
              0.8888888888888888,
              "#fdca26"
             ],
             [
              1,
              "#f0f921"
             ]
            ],
            "type": "surface"
           }
          ],
          "table": [
           {
            "cells": {
             "fill": {
              "color": "#EBF0F8"
             },
             "line": {
              "color": "white"
             }
            },
            "header": {
             "fill": {
              "color": "#C8D4E3"
             },
             "line": {
              "color": "white"
             }
            },
            "type": "table"
           }
          ]
         },
         "layout": {
          "annotationdefaults": {
           "arrowcolor": "#2a3f5f",
           "arrowhead": 0,
           "arrowwidth": 1
          },
          "autotypenumbers": "strict",
          "coloraxis": {
           "colorbar": {
            "outlinewidth": 0,
            "ticks": ""
           }
          },
          "colorscale": {
           "diverging": [
            [
             0,
             "#8e0152"
            ],
            [
             0.1,
             "#c51b7d"
            ],
            [
             0.2,
             "#de77ae"
            ],
            [
             0.3,
             "#f1b6da"
            ],
            [
             0.4,
             "#fde0ef"
            ],
            [
             0.5,
             "#f7f7f7"
            ],
            [
             0.6,
             "#e6f5d0"
            ],
            [
             0.7,
             "#b8e186"
            ],
            [
             0.8,
             "#7fbc41"
            ],
            [
             0.9,
             "#4d9221"
            ],
            [
             1,
             "#276419"
            ]
           ],
           "sequential": [
            [
             0,
             "#0d0887"
            ],
            [
             0.1111111111111111,
             "#46039f"
            ],
            [
             0.2222222222222222,
             "#7201a8"
            ],
            [
             0.3333333333333333,
             "#9c179e"
            ],
            [
             0.4444444444444444,
             "#bd3786"
            ],
            [
             0.5555555555555556,
             "#d8576b"
            ],
            [
             0.6666666666666666,
             "#ed7953"
            ],
            [
             0.7777777777777778,
             "#fb9f3a"
            ],
            [
             0.8888888888888888,
             "#fdca26"
            ],
            [
             1,
             "#f0f921"
            ]
           ],
           "sequentialminus": [
            [
             0,
             "#0d0887"
            ],
            [
             0.1111111111111111,
             "#46039f"
            ],
            [
             0.2222222222222222,
             "#7201a8"
            ],
            [
             0.3333333333333333,
             "#9c179e"
            ],
            [
             0.4444444444444444,
             "#bd3786"
            ],
            [
             0.5555555555555556,
             "#d8576b"
            ],
            [
             0.6666666666666666,
             "#ed7953"
            ],
            [
             0.7777777777777778,
             "#fb9f3a"
            ],
            [
             0.8888888888888888,
             "#fdca26"
            ],
            [
             1,
             "#f0f921"
            ]
           ]
          },
          "colorway": [
           "#636efa",
           "#EF553B",
           "#00cc96",
           "#ab63fa",
           "#FFA15A",
           "#19d3f3",
           "#FF6692",
           "#B6E880",
           "#FF97FF",
           "#FECB52"
          ],
          "font": {
           "color": "#2a3f5f"
          },
          "geo": {
           "bgcolor": "white",
           "lakecolor": "white",
           "landcolor": "#E5ECF6",
           "showlakes": true,
           "showland": true,
           "subunitcolor": "white"
          },
          "hoverlabel": {
           "align": "left"
          },
          "hovermode": "closest",
          "mapbox": {
           "style": "light"
          },
          "paper_bgcolor": "white",
          "plot_bgcolor": "#E5ECF6",
          "polar": {
           "angularaxis": {
            "gridcolor": "white",
            "linecolor": "white",
            "ticks": ""
           },
           "bgcolor": "#E5ECF6",
           "radialaxis": {
            "gridcolor": "white",
            "linecolor": "white",
            "ticks": ""
           }
          },
          "scene": {
           "xaxis": {
            "backgroundcolor": "#E5ECF6",
            "gridcolor": "white",
            "gridwidth": 2,
            "linecolor": "white",
            "showbackground": true,
            "ticks": "",
            "zerolinecolor": "white"
           },
           "yaxis": {
            "backgroundcolor": "#E5ECF6",
            "gridcolor": "white",
            "gridwidth": 2,
            "linecolor": "white",
            "showbackground": true,
            "ticks": "",
            "zerolinecolor": "white"
           },
           "zaxis": {
            "backgroundcolor": "#E5ECF6",
            "gridcolor": "white",
            "gridwidth": 2,
            "linecolor": "white",
            "showbackground": true,
            "ticks": "",
            "zerolinecolor": "white"
           }
          },
          "shapedefaults": {
           "line": {
            "color": "#2a3f5f"
           }
          },
          "ternary": {
           "aaxis": {
            "gridcolor": "white",
            "linecolor": "white",
            "ticks": ""
           },
           "baxis": {
            "gridcolor": "white",
            "linecolor": "white",
            "ticks": ""
           },
           "bgcolor": "#E5ECF6",
           "caxis": {
            "gridcolor": "white",
            "linecolor": "white",
            "ticks": ""
           }
          },
          "title": {
           "x": 0.05
          },
          "xaxis": {
           "automargin": true,
           "gridcolor": "white",
           "linecolor": "white",
           "ticks": "",
           "title": {
            "standoff": 15
           },
           "zerolinecolor": "white",
           "zerolinewidth": 2
          },
          "yaxis": {
           "automargin": true,
           "gridcolor": "white",
           "linecolor": "white",
           "ticks": "",
           "title": {
            "standoff": 15
           },
           "zerolinecolor": "white",
           "zerolinewidth": 2
          }
         }
        },
        "title": {
         "text": "Yandex cost prediction: MAPE 54.458 and MAE 131.733"
        },
        "yaxis": {
         "title": {
          "text": "Posts"
         }
        }
       }
      },
      "text/html": [
       "<div>                            <div id=\"a822ab9e-6a8b-4874-ad73-7414c4210bb4\" class=\"plotly-graph-div\" style=\"height:525px; width:100%;\"></div>            <script type=\"text/javascript\">                require([\"plotly\"], function(Plotly) {                    window.PLOTLYENV=window.PLOTLYENV || {};                                    if (document.getElementById(\"a822ab9e-6a8b-4874-ad73-7414c4210bb4\")) {                    Plotly.newPlot(                        \"a822ab9e-6a8b-4874-ad73-7414c4210bb4\",                        [{\"line\":{\"width\":0},\"marker\":{\"color\":\"gray\"},\"mode\":\"lines\",\"name\":\"Lower Bound\",\"x\":[\"2021-02-22T00:00:00\",\"2021-02-23T00:00:00\",\"2021-02-24T00:00:00\",\"2021-02-25T00:00:00\",\"2021-02-26T00:00:00\",\"2021-02-27T00:00:00\",\"2021-02-28T00:00:00\",\"2021-03-01T00:00:00\",\"2021-03-02T00:00:00\",\"2021-03-03T00:00:00\",\"2021-03-04T00:00:00\",\"2021-03-05T00:00:00\",\"2021-03-06T00:00:00\",\"2021-03-07T00:00:00\",\"2021-03-08T00:00:00\",\"2021-03-09T00:00:00\",\"2021-03-10T00:00:00\",\"2021-03-11T00:00:00\",\"2021-03-12T00:00:00\",\"2021-03-13T00:00:00\",\"2021-03-14T00:00:00\",\"2021-03-15T00:00:00\",\"2021-03-16T00:00:00\",\"2021-03-17T00:00:00\",\"2021-03-18T00:00:00\",\"2021-03-19T00:00:00\",\"2021-03-20T00:00:00\",\"2021-03-21T00:00:00\",\"2021-03-22T00:00:00\",\"2021-03-23T00:00:00\",\"2021-03-24T00:00:00\",\"2021-03-25T00:00:00\",\"2021-03-26T00:00:00\",\"2021-03-27T00:00:00\",\"2021-03-28T00:00:00\",\"2021-03-29T00:00:00\",\"2021-03-30T00:00:00\",\"2021-03-31T00:00:00\",\"2021-04-01T00:00:00\",\"2021-04-02T00:00:00\",\"2021-04-03T00:00:00\",\"2021-04-04T00:00:00\",\"2021-04-05T00:00:00\",\"2021-04-06T00:00:00\",\"2021-04-07T00:00:00\",\"2021-04-08T00:00:00\",\"2021-04-09T00:00:00\",\"2021-04-10T00:00:00\",\"2021-04-11T00:00:00\",\"2021-04-12T00:00:00\",\"2021-04-13T00:00:00\",\"2021-04-14T00:00:00\",\"2021-04-15T00:00:00\",\"2021-04-16T00:00:00\",\"2021-04-17T00:00:00\",\"2021-04-18T00:00:00\",\"2021-04-19T00:00:00\",\"2021-04-20T00:00:00\",\"2021-04-21T00:00:00\",\"2021-04-22T00:00:00\",\"2021-04-23T00:00:00\",\"2021-04-24T00:00:00\",\"2021-04-25T00:00:00\",\"2021-04-26T00:00:00\",\"2021-04-27T00:00:00\",\"2021-04-28T00:00:00\",\"2021-04-29T00:00:00\",\"2021-04-30T00:00:00\",\"2021-05-01T00:00:00\",\"2021-05-02T00:00:00\",\"2021-05-03T00:00:00\",\"2021-05-04T00:00:00\",\"2021-05-05T00:00:00\",\"2021-05-06T00:00:00\"],\"y\":[-87.9086675342582,-97.04086569463391,-174.86046507031054,-47.52860042155947,60.27718603317908,-101.36553258499,-55.270551667126774,-68.2636049616216,-109.59830604393238,-142.79931732995152,-74.75677936425481,68.45004454514799,-99.79615181950133,-50.27214316793777,-91.43145541309613,-123.34751104443798,-185.7334658942237,-89.02224879648558,24.31139892701748,-156.6964378021878,-69.73681706158338,-128.9821189471592,-154.69510867368106,-250.00066950175813,-174.7710566390048,-47.85881806339534,-215.36193797213602,-175.55308081227437,-180.72202165914655,-222.3475328643441,-281.190426666612,-176.7548026161702,-59.268175241947944,-214.26436871817728,-162.6842429860475,-180.19668900907172,-226.60553552035486,-277.2218673843647,-206.5445998973578,-68.99299540827536,-231.01777820227204,-163.4779709805682,-183.74727782479124,-203.83255169123595,-260.4860096959619,-202.60686600183584,-77.38115358448091,-180.11204682484262,-133.27873378931716,-179.45665700805597,-186.9934773466443,-249.12443954071293,-183.8215519315927,-32.47050706007918,-206.63578147344322,-110.6774514624496,-170.62507078015722,-165.31967619779832,-212.99444222087772,-154.78556349542154,16.427741790575567,-187.14882429729383,-120.99797316735604,-143.22351216647832,-150.74513753240132,-191.7069180743411,-124.8481117737861,23.923800412536362,-137.363432058832,-56.30779035281069,-62.07836511906853,-141.07800187619296,-165.45943807232155,-88.99864394168182],\"type\":\"scatter\"},{\"fill\":\"tonexty\",\"fillcolor\":\"rgba(68, 68, 68, 0.3)\",\"line\":{\"width\":0},\"marker\":{\"color\":\"gray\"},\"mode\":\"lines\",\"name\":\"Upper Bound\",\"x\":[\"2021-02-22T00:00:00\",\"2021-02-23T00:00:00\",\"2021-02-24T00:00:00\",\"2021-02-25T00:00:00\",\"2021-02-26T00:00:00\",\"2021-02-27T00:00:00\",\"2021-02-28T00:00:00\",\"2021-03-01T00:00:00\",\"2021-03-02T00:00:00\",\"2021-03-03T00:00:00\",\"2021-03-04T00:00:00\",\"2021-03-05T00:00:00\",\"2021-03-06T00:00:00\",\"2021-03-07T00:00:00\",\"2021-03-08T00:00:00\",\"2021-03-09T00:00:00\",\"2021-03-10T00:00:00\",\"2021-03-11T00:00:00\",\"2021-03-12T00:00:00\",\"2021-03-13T00:00:00\",\"2021-03-14T00:00:00\",\"2021-03-15T00:00:00\",\"2021-03-16T00:00:00\",\"2021-03-17T00:00:00\",\"2021-03-18T00:00:00\",\"2021-03-19T00:00:00\",\"2021-03-20T00:00:00\",\"2021-03-21T00:00:00\",\"2021-03-22T00:00:00\",\"2021-03-23T00:00:00\",\"2021-03-24T00:00:00\",\"2021-03-25T00:00:00\",\"2021-03-26T00:00:00\",\"2021-03-27T00:00:00\",\"2021-03-28T00:00:00\",\"2021-03-29T00:00:00\",\"2021-03-30T00:00:00\",\"2021-03-31T00:00:00\",\"2021-04-01T00:00:00\",\"2021-04-02T00:00:00\",\"2021-04-03T00:00:00\",\"2021-04-04T00:00:00\",\"2021-04-05T00:00:00\",\"2021-04-06T00:00:00\",\"2021-04-07T00:00:00\",\"2021-04-08T00:00:00\",\"2021-04-09T00:00:00\",\"2021-04-10T00:00:00\",\"2021-04-11T00:00:00\",\"2021-04-12T00:00:00\",\"2021-04-13T00:00:00\",\"2021-04-14T00:00:00\",\"2021-04-15T00:00:00\",\"2021-04-16T00:00:00\",\"2021-04-17T00:00:00\",\"2021-04-18T00:00:00\",\"2021-04-19T00:00:00\",\"2021-04-20T00:00:00\",\"2021-04-21T00:00:00\",\"2021-04-22T00:00:00\",\"2021-04-23T00:00:00\",\"2021-04-24T00:00:00\",\"2021-04-25T00:00:00\",\"2021-04-26T00:00:00\",\"2021-04-27T00:00:00\",\"2021-04-28T00:00:00\",\"2021-04-29T00:00:00\",\"2021-04-30T00:00:00\",\"2021-05-01T00:00:00\",\"2021-05-02T00:00:00\",\"2021-05-03T00:00:00\",\"2021-05-04T00:00:00\",\"2021-05-05T00:00:00\",\"2021-05-06T00:00:00\"],\"y\":[588.9748603616781,565.6371561995261,512.6559997282709,620.5687223243074,747.7384420031268,586.8622236319721,648.0660623148624,594.3350805746803,555.7264826186029,536.8585883046997,599.9323800126955,744.2494969974273,572.2801103107613,615.8260890843694,596.696507660737,580.5498092497057,492.42171040593826,576.5441957506165,709.6229192717027,514.0004030947013,579.7698582105579,520.0769302254976,504.7434433886672,451.61149455065083,523.3058340776693,653.8732319304887,483.208334244498,532.4907272988555,484.77626841391964,473.1728660452505,410.8309293628465,505.3915537141122,624.7199330187383,443.59810840277714,520.3165276715713,476.37167194637266,438.7177365456098,400.1568623825116,465.62356326949737,610.5844036124577,462.0825891080829,499.65846724740425,516.6886966048415,474.919995268084,395.6090857888912,517.0954667686245,650.2639230911439,455.86151030207157,553.2004931827875,513.5904083144642,495.66549271257304,446.7047451539205,499.74388694505853,650.6126188199935,480.32985869359436,550.9985128215392,549.5461299924709,509.54729699119537,451.85904908229264,521.0354945002558,699.2097918360874,463.0898425694737,585.779450370831,543.819550115954,540.6065266578587,480.4924696082107,544.2560629017819,688.5991847269202,544.7425253275363,630.5689783521638,588.6749323016888,552.2612790341066,528.7130624730104,576.4411599110325],\"type\":\"scatter\"},{\"line\":{\"color\":\"rgb(31, 119, 180)\"},\"mode\":\"lines\",\"name\":\"Forecast\",\"x\":[\"2021-02-22T00:00:00\",\"2021-02-23T00:00:00\",\"2021-02-24T00:00:00\",\"2021-02-25T00:00:00\",\"2021-02-26T00:00:00\",\"2021-02-27T00:00:00\",\"2021-02-28T00:00:00\",\"2021-03-01T00:00:00\",\"2021-03-02T00:00:00\",\"2021-03-03T00:00:00\",\"2021-03-04T00:00:00\",\"2021-03-05T00:00:00\",\"2021-03-06T00:00:00\",\"2021-03-07T00:00:00\",\"2021-03-08T00:00:00\",\"2021-03-09T00:00:00\",\"2021-03-10T00:00:00\",\"2021-03-11T00:00:00\",\"2021-03-12T00:00:00\",\"2021-03-13T00:00:00\",\"2021-03-14T00:00:00\",\"2021-03-15T00:00:00\",\"2021-03-16T00:00:00\",\"2021-03-17T00:00:00\",\"2021-03-18T00:00:00\",\"2021-03-19T00:00:00\",\"2021-03-20T00:00:00\",\"2021-03-21T00:00:00\",\"2021-03-22T00:00:00\",\"2021-03-23T00:00:00\",\"2021-03-24T00:00:00\",\"2021-03-25T00:00:00\",\"2021-03-26T00:00:00\",\"2021-03-27T00:00:00\",\"2021-03-28T00:00:00\",\"2021-03-29T00:00:00\",\"2021-03-30T00:00:00\",\"2021-03-31T00:00:00\",\"2021-04-01T00:00:00\",\"2021-04-02T00:00:00\",\"2021-04-03T00:00:00\",\"2021-04-04T00:00:00\",\"2021-04-05T00:00:00\",\"2021-04-06T00:00:00\",\"2021-04-07T00:00:00\",\"2021-04-08T00:00:00\",\"2021-04-09T00:00:00\",\"2021-04-10T00:00:00\",\"2021-04-11T00:00:00\",\"2021-04-12T00:00:00\",\"2021-04-13T00:00:00\",\"2021-04-14T00:00:00\",\"2021-04-15T00:00:00\",\"2021-04-16T00:00:00\",\"2021-04-17T00:00:00\",\"2021-04-18T00:00:00\",\"2021-04-19T00:00:00\",\"2021-04-20T00:00:00\",\"2021-04-21T00:00:00\",\"2021-04-22T00:00:00\",\"2021-04-23T00:00:00\",\"2021-04-24T00:00:00\",\"2021-04-25T00:00:00\",\"2021-04-26T00:00:00\",\"2021-04-27T00:00:00\",\"2021-04-28T00:00:00\",\"2021-04-29T00:00:00\",\"2021-04-30T00:00:00\",\"2021-05-01T00:00:00\",\"2021-05-02T00:00:00\",\"2021-05-03T00:00:00\",\"2021-05-04T00:00:00\",\"2021-05-05T00:00:00\",\"2021-05-06T00:00:00\"],\"y\":[268.44161930400844,234.45404142931554,182.3612284408724,261.1330143890484,402.4988791985899,230.1846038562683,291.69409630430346,265.13838513400697,231.83363925037813,179.69583839934475,257.67177091674876,397.4963396621696,222.9286885811797,281.5325854697377,251.5031193847035,214.2616583833596,157.8468030834503,231.34114230320924,366.62393659927363,187.60239719841817,241.98715612124346,208.1141461700269,167.53499164255823,108.40379047008054,179.90022479726252,313.97923806448375,134.60003647267794,189.50007641365207,157.01629592195403,118.6757029257079,62.58318534061209,137.84643751568086,276.3281733838421,101.87829360876734,162.11155801359254,135.2328950398241,102.63232289318304,52.277202075300465,133.14156600599364,276.96255464386144,107.47648005678047,172.19994845073444,149.25805928921784,119.98156426201402,72.30063605913105,155.17494824350172,300.3500715001556,131.59272187701288,196.47031826064244,173.17692731445572,143.12755922659267,94.3485650474091,175.90395469106906,319.6477716428202,149.45519947136484,212.99800095222471,188.56651090200944,157.66028354666545,108.37527268531306,189.82747695512666,333.9032814030596,164.48924435216625,229.2469803799798,206.43538492569894,177.50229913048904,130.47346430627235,214.37864351237369,361.00506237157515,194.1308171157408,261.30378100708435,240.66812000830473,213.56037105398372,167.90278109476665,252.63363215213923],\"type\":\"scatter\"},{\"marker\":{\"color\":\"red\"},\"mode\":\"lines\",\"name\":\"Actual\",\"x\":[\"2021-01-20T00:00:00\",\"2021-01-22T00:00:00\",\"2021-01-23T00:00:00\",\"2021-01-24T00:00:00\",\"2021-01-25T00:00:00\",\"2021-01-26T00:00:00\",\"2021-01-27T00:00:00\",\"2021-01-28T00:00:00\",\"2021-01-29T00:00:00\",\"2021-01-31T00:00:00\",\"2021-02-01T00:00:00\",\"2021-02-03T00:00:00\",\"2021-02-04T00:00:00\",\"2021-02-05T00:00:00\",\"2021-02-06T00:00:00\",\"2021-02-07T00:00:00\",\"2021-02-08T00:00:00\",\"2021-02-10T00:00:00\",\"2021-02-11T00:00:00\",\"2021-02-13T00:00:00\",\"2021-02-15T00:00:00\",\"2021-02-17T00:00:00\",\"2021-02-18T00:00:00\",\"2021-02-19T00:00:00\",\"2021-02-20T00:00:00\",\"2021-02-21T00:00:00\",\"2021-02-22T00:00:00\",\"2021-02-23T00:00:00\",\"2021-02-24T00:00:00\",\"2021-02-25T00:00:00\",\"2021-02-26T00:00:00\",\"2021-02-27T00:00:00\",\"2021-02-28T00:00:00\",\"2021-03-01T00:00:00\",\"2021-03-02T00:00:00\",\"2021-03-03T00:00:00\",\"2021-03-04T00:00:00\",\"2021-03-05T00:00:00\",\"2021-03-06T00:00:00\",\"2021-03-07T00:00:00\",\"2021-03-08T00:00:00\",\"2021-03-09T00:00:00\",\"2021-03-10T00:00:00\",\"2021-03-11T00:00:00\",\"2021-03-12T00:00:00\",\"2021-03-13T00:00:00\",\"2021-03-14T00:00:00\",\"2021-03-15T00:00:00\",\"2021-03-16T00:00:00\",\"2021-03-17T00:00:00\",\"2021-03-18T00:00:00\",\"2021-03-19T00:00:00\",\"2021-03-20T00:00:00\",\"2021-03-21T00:00:00\",\"2021-03-22T00:00:00\",\"2021-03-23T00:00:00\",\"2021-03-24T00:00:00\",\"2021-03-25T00:00:00\",\"2021-03-26T00:00:00\",\"2021-03-27T00:00:00\",\"2021-03-28T00:00:00\",\"2021-03-29T00:00:00\",\"2021-03-30T00:00:00\",\"2021-03-31T00:00:00\",\"2021-04-01T00:00:00\",\"2021-04-02T00:00:00\",\"2021-04-03T00:00:00\",\"2021-04-04T00:00:00\",\"2021-04-05T00:00:00\",\"2021-04-06T00:00:00\",\"2021-04-07T00:00:00\",\"2021-04-08T00:00:00\",\"2021-04-09T00:00:00\",\"2021-04-10T00:00:00\",\"2021-04-11T00:00:00\",\"2021-04-12T00:00:00\",\"2021-04-13T00:00:00\",\"2021-04-14T00:00:00\",\"2021-04-15T00:00:00\",\"2021-04-16T00:00:00\",\"2021-04-17T00:00:00\",\"2021-04-18T00:00:00\",\"2021-04-19T00:00:00\",\"2021-04-20T00:00:00\",\"2021-04-21T00:00:00\",\"2021-04-22T00:00:00\",\"2021-04-23T00:00:00\",\"2021-04-24T00:00:00\",\"2021-04-25T00:00:00\",\"2021-04-26T00:00:00\",\"2021-04-27T00:00:00\",\"2021-04-28T00:00:00\",\"2021-04-29T00:00:00\",\"2021-04-30T00:00:00\",\"2021-05-01T00:00:00\",\"2021-05-02T00:00:00\",\"2021-05-03T00:00:00\",\"2021-05-04T00:00:00\",\"2021-05-05T00:00:00\",\"2021-05-06T00:00:00\"],\"y\":[270.0,383.3333333333333,200.0,217.5,100.0,115.0,305.0,285.0,260.0,185.0,135.0,343.3333333333333,550.0,390.0,360.0,300.0,305.0,690.0,345.0,650.0,690.0,635.0,220.0,950.0,140.0,350.0,460.0,null,null,null,605.0,null,430.0,51.5,360.0,515.0,205.0,300.0,160.0,425.0,310.0,350.0,480.0,105.0,null,230.0,360.0,270.0,332.5,170.25,120.0,205.71428571428572,343.3333333333333,352.3333333333333,null,115.0,274.5,240.0,425.875,600.0,null,230.76666666666665,472.3,209.64999999999998,125.725,560.0,94.4,null,151.9,null,402.23333333333335,94.45,288.5,null,157.2,104.775,null,249.4625,null,275.3625,null,83.8,115.5,303.8,303.76666666666665,null,205.0666666666667,null,309.54999999999995,159.70833333333334,71.6,302.6666666666667,471.06666666666666,312.0285714285714,288.1166666666667,null,190.0,311.1333333333334,86.11666666666667,null],\"type\":\"scatter\"}],                        {\"showlegend\":false,\"template\":{\"data\":{\"barpolar\":[{\"marker\":{\"line\":{\"color\":\"#E5ECF6\",\"width\":0.5},\"pattern\":{\"fillmode\":\"overlay\",\"size\":10,\"solidity\":0.2}},\"type\":\"barpolar\"}],\"bar\":[{\"error_x\":{\"color\":\"#2a3f5f\"},\"error_y\":{\"color\":\"#2a3f5f\"},\"marker\":{\"line\":{\"color\":\"#E5ECF6\",\"width\":0.5},\"pattern\":{\"fillmode\":\"overlay\",\"size\":10,\"solidity\":0.2}},\"type\":\"bar\"}],\"carpet\":[{\"aaxis\":{\"endlinecolor\":\"#2a3f5f\",\"gridcolor\":\"white\",\"linecolor\":\"white\",\"minorgridcolor\":\"white\",\"startlinecolor\":\"#2a3f5f\"},\"baxis\":{\"endlinecolor\":\"#2a3f5f\",\"gridcolor\":\"white\",\"linecolor\":\"white\",\"minorgridcolor\":\"white\",\"startlinecolor\":\"#2a3f5f\"},\"type\":\"carpet\"}],\"choropleth\":[{\"colorbar\":{\"outlinewidth\":0,\"ticks\":\"\"},\"type\":\"choropleth\"}],\"contourcarpet\":[{\"colorbar\":{\"outlinewidth\":0,\"ticks\":\"\"},\"type\":\"contourcarpet\"}],\"contour\":[{\"colorbar\":{\"outlinewidth\":0,\"ticks\":\"\"},\"colorscale\":[[0.0,\"#0d0887\"],[0.1111111111111111,\"#46039f\"],[0.2222222222222222,\"#7201a8\"],[0.3333333333333333,\"#9c179e\"],[0.4444444444444444,\"#bd3786\"],[0.5555555555555556,\"#d8576b\"],[0.6666666666666666,\"#ed7953\"],[0.7777777777777778,\"#fb9f3a\"],[0.8888888888888888,\"#fdca26\"],[1.0,\"#f0f921\"]],\"type\":\"contour\"}],\"heatmapgl\":[{\"colorbar\":{\"outlinewidth\":0,\"ticks\":\"\"},\"colorscale\":[[0.0,\"#0d0887\"],[0.1111111111111111,\"#46039f\"],[0.2222222222222222,\"#7201a8\"],[0.3333333333333333,\"#9c179e\"],[0.4444444444444444,\"#bd3786\"],[0.5555555555555556,\"#d8576b\"],[0.6666666666666666,\"#ed7953\"],[0.7777777777777778,\"#fb9f3a\"],[0.8888888888888888,\"#fdca26\"],[1.0,\"#f0f921\"]],\"type\":\"heatmapgl\"}],\"heatmap\":[{\"colorbar\":{\"outlinewidth\":0,\"ticks\":\"\"},\"colorscale\":[[0.0,\"#0d0887\"],[0.1111111111111111,\"#46039f\"],[0.2222222222222222,\"#7201a8\"],[0.3333333333333333,\"#9c179e\"],[0.4444444444444444,\"#bd3786\"],[0.5555555555555556,\"#d8576b\"],[0.6666666666666666,\"#ed7953\"],[0.7777777777777778,\"#fb9f3a\"],[0.8888888888888888,\"#fdca26\"],[1.0,\"#f0f921\"]],\"type\":\"heatmap\"}],\"histogram2dcontour\":[{\"colorbar\":{\"outlinewidth\":0,\"ticks\":\"\"},\"colorscale\":[[0.0,\"#0d0887\"],[0.1111111111111111,\"#46039f\"],[0.2222222222222222,\"#7201a8\"],[0.3333333333333333,\"#9c179e\"],[0.4444444444444444,\"#bd3786\"],[0.5555555555555556,\"#d8576b\"],[0.6666666666666666,\"#ed7953\"],[0.7777777777777778,\"#fb9f3a\"],[0.8888888888888888,\"#fdca26\"],[1.0,\"#f0f921\"]],\"type\":\"histogram2dcontour\"}],\"histogram2d\":[{\"colorbar\":{\"outlinewidth\":0,\"ticks\":\"\"},\"colorscale\":[[0.0,\"#0d0887\"],[0.1111111111111111,\"#46039f\"],[0.2222222222222222,\"#7201a8\"],[0.3333333333333333,\"#9c179e\"],[0.4444444444444444,\"#bd3786\"],[0.5555555555555556,\"#d8576b\"],[0.6666666666666666,\"#ed7953\"],[0.7777777777777778,\"#fb9f3a\"],[0.8888888888888888,\"#fdca26\"],[1.0,\"#f0f921\"]],\"type\":\"histogram2d\"}],\"histogram\":[{\"marker\":{\"pattern\":{\"fillmode\":\"overlay\",\"size\":10,\"solidity\":0.2}},\"type\":\"histogram\"}],\"mesh3d\":[{\"colorbar\":{\"outlinewidth\":0,\"ticks\":\"\"},\"type\":\"mesh3d\"}],\"parcoords\":[{\"line\":{\"colorbar\":{\"outlinewidth\":0,\"ticks\":\"\"}},\"type\":\"parcoords\"}],\"pie\":[{\"automargin\":true,\"type\":\"pie\"}],\"scatter3d\":[{\"line\":{\"colorbar\":{\"outlinewidth\":0,\"ticks\":\"\"}},\"marker\":{\"colorbar\":{\"outlinewidth\":0,\"ticks\":\"\"}},\"type\":\"scatter3d\"}],\"scattercarpet\":[{\"marker\":{\"colorbar\":{\"outlinewidth\":0,\"ticks\":\"\"}},\"type\":\"scattercarpet\"}],\"scattergeo\":[{\"marker\":{\"colorbar\":{\"outlinewidth\":0,\"ticks\":\"\"}},\"type\":\"scattergeo\"}],\"scattergl\":[{\"marker\":{\"colorbar\":{\"outlinewidth\":0,\"ticks\":\"\"}},\"type\":\"scattergl\"}],\"scattermapbox\":[{\"marker\":{\"colorbar\":{\"outlinewidth\":0,\"ticks\":\"\"}},\"type\":\"scattermapbox\"}],\"scatterpolargl\":[{\"marker\":{\"colorbar\":{\"outlinewidth\":0,\"ticks\":\"\"}},\"type\":\"scatterpolargl\"}],\"scatterpolar\":[{\"marker\":{\"colorbar\":{\"outlinewidth\":0,\"ticks\":\"\"}},\"type\":\"scatterpolar\"}],\"scatter\":[{\"fillpattern\":{\"fillmode\":\"overlay\",\"size\":10,\"solidity\":0.2},\"type\":\"scatter\"}],\"scatterternary\":[{\"marker\":{\"colorbar\":{\"outlinewidth\":0,\"ticks\":\"\"}},\"type\":\"scatterternary\"}],\"surface\":[{\"colorbar\":{\"outlinewidth\":0,\"ticks\":\"\"},\"colorscale\":[[0.0,\"#0d0887\"],[0.1111111111111111,\"#46039f\"],[0.2222222222222222,\"#7201a8\"],[0.3333333333333333,\"#9c179e\"],[0.4444444444444444,\"#bd3786\"],[0.5555555555555556,\"#d8576b\"],[0.6666666666666666,\"#ed7953\"],[0.7777777777777778,\"#fb9f3a\"],[0.8888888888888888,\"#fdca26\"],[1.0,\"#f0f921\"]],\"type\":\"surface\"}],\"table\":[{\"cells\":{\"fill\":{\"color\":\"#EBF0F8\"},\"line\":{\"color\":\"white\"}},\"header\":{\"fill\":{\"color\":\"#C8D4E3\"},\"line\":{\"color\":\"white\"}},\"type\":\"table\"}]},\"layout\":{\"annotationdefaults\":{\"arrowcolor\":\"#2a3f5f\",\"arrowhead\":0,\"arrowwidth\":1},\"autotypenumbers\":\"strict\",\"coloraxis\":{\"colorbar\":{\"outlinewidth\":0,\"ticks\":\"\"}},\"colorscale\":{\"diverging\":[[0,\"#8e0152\"],[0.1,\"#c51b7d\"],[0.2,\"#de77ae\"],[0.3,\"#f1b6da\"],[0.4,\"#fde0ef\"],[0.5,\"#f7f7f7\"],[0.6,\"#e6f5d0\"],[0.7,\"#b8e186\"],[0.8,\"#7fbc41\"],[0.9,\"#4d9221\"],[1,\"#276419\"]],\"sequential\":[[0.0,\"#0d0887\"],[0.1111111111111111,\"#46039f\"],[0.2222222222222222,\"#7201a8\"],[0.3333333333333333,\"#9c179e\"],[0.4444444444444444,\"#bd3786\"],[0.5555555555555556,\"#d8576b\"],[0.6666666666666666,\"#ed7953\"],[0.7777777777777778,\"#fb9f3a\"],[0.8888888888888888,\"#fdca26\"],[1.0,\"#f0f921\"]],\"sequentialminus\":[[0.0,\"#0d0887\"],[0.1111111111111111,\"#46039f\"],[0.2222222222222222,\"#7201a8\"],[0.3333333333333333,\"#9c179e\"],[0.4444444444444444,\"#bd3786\"],[0.5555555555555556,\"#d8576b\"],[0.6666666666666666,\"#ed7953\"],[0.7777777777777778,\"#fb9f3a\"],[0.8888888888888888,\"#fdca26\"],[1.0,\"#f0f921\"]]},\"colorway\":[\"#636efa\",\"#EF553B\",\"#00cc96\",\"#ab63fa\",\"#FFA15A\",\"#19d3f3\",\"#FF6692\",\"#B6E880\",\"#FF97FF\",\"#FECB52\"],\"font\":{\"color\":\"#2a3f5f\"},\"geo\":{\"bgcolor\":\"white\",\"lakecolor\":\"white\",\"landcolor\":\"#E5ECF6\",\"showlakes\":true,\"showland\":true,\"subunitcolor\":\"white\"},\"hoverlabel\":{\"align\":\"left\"},\"hovermode\":\"closest\",\"mapbox\":{\"style\":\"light\"},\"paper_bgcolor\":\"white\",\"plot_bgcolor\":\"#E5ECF6\",\"polar\":{\"angularaxis\":{\"gridcolor\":\"white\",\"linecolor\":\"white\",\"ticks\":\"\"},\"bgcolor\":\"#E5ECF6\",\"radialaxis\":{\"gridcolor\":\"white\",\"linecolor\":\"white\",\"ticks\":\"\"}},\"scene\":{\"xaxis\":{\"backgroundcolor\":\"#E5ECF6\",\"gridcolor\":\"white\",\"gridwidth\":2,\"linecolor\":\"white\",\"showbackground\":true,\"ticks\":\"\",\"zerolinecolor\":\"white\"},\"yaxis\":{\"backgroundcolor\":\"#E5ECF6\",\"gridcolor\":\"white\",\"gridwidth\":2,\"linecolor\":\"white\",\"showbackground\":true,\"ticks\":\"\",\"zerolinecolor\":\"white\"},\"zaxis\":{\"backgroundcolor\":\"#E5ECF6\",\"gridcolor\":\"white\",\"gridwidth\":2,\"linecolor\":\"white\",\"showbackground\":true,\"ticks\":\"\",\"zerolinecolor\":\"white\"}},\"shapedefaults\":{\"line\":{\"color\":\"#2a3f5f\"}},\"ternary\":{\"aaxis\":{\"gridcolor\":\"white\",\"linecolor\":\"white\",\"ticks\":\"\"},\"baxis\":{\"gridcolor\":\"white\",\"linecolor\":\"white\",\"ticks\":\"\"},\"bgcolor\":\"#E5ECF6\",\"caxis\":{\"gridcolor\":\"white\",\"linecolor\":\"white\",\"ticks\":\"\"}},\"title\":{\"x\":0.05},\"xaxis\":{\"automargin\":true,\"gridcolor\":\"white\",\"linecolor\":\"white\",\"ticks\":\"\",\"title\":{\"standoff\":15},\"zerolinecolor\":\"white\",\"zerolinewidth\":2},\"yaxis\":{\"automargin\":true,\"gridcolor\":\"white\",\"linecolor\":\"white\",\"ticks\":\"\",\"title\":{\"standoff\":15},\"zerolinecolor\":\"white\",\"zerolinewidth\":2}}},\"title\":{\"text\":\"Yandex cost prediction: MAPE 54.458 and MAE 131.733\"},\"yaxis\":{\"title\":{\"text\":\"Posts\"}}},                        {\"responsive\": true}                    ).then(function(){\n",
       "                            \n",
       "var gd = document.getElementById('a822ab9e-6a8b-4874-ad73-7414c4210bb4');\n",
       "var x = new MutationObserver(function (mutations, observer) {{\n",
       "        var display = window.getComputedStyle(gd).display;\n",
       "        if (!display || display === 'none') {{\n",
       "            console.log([gd, 'removed!']);\n",
       "            Plotly.purge(gd);\n",
       "            observer.disconnect();\n",
       "        }}\n",
       "}});\n",
       "\n",
       "// Listen for the removal of the full notebook cells\n",
       "var notebookContainer = gd.closest('#notebook-container');\n",
       "if (notebookContainer) {{\n",
       "    x.observe(notebookContainer, {childList: true});\n",
       "}}\n",
       "\n",
       "// Listen for the clearing of the current output cell\n",
       "var outputEl = gd.closest('.output');\n",
       "if (outputEl) {{\n",
       "    x.observe(outputEl, {childList: true});\n",
       "}}\n",
       "\n",
       "                        })                };                });            </script>        </div>"
      ]
     },
     "metadata": {},
     "output_type": "display_data"
    }
   ],
   "source": [
    "show_forecast(cmp_df, prediction_size, 100, \"Yandex cost prediction: MAPE 54.458 and MAE 131.733\")"
   ]
  }
 ],
 "metadata": {
  "kernelspec": {
   "display_name": "Python 3 (ipykernel)",
   "language": "python",
   "name": "python3"
  },
  "language_info": {
   "codemirror_mode": {
    "name": "ipython",
    "version": 3
   },
   "file_extension": ".py",
   "mimetype": "text/x-python",
   "name": "python",
   "nbconvert_exporter": "python",
   "pygments_lexer": "ipython3",
   "version": "3.10.12"
  },
  "toc": {
   "base_numbering": 1,
   "nav_menu": {},
   "number_sections": true,
   "sideBar": true,
   "skip_h1_title": false,
   "title_cell": "Table of Contents",
   "title_sidebar": "Contents",
   "toc_cell": false,
   "toc_position": {},
   "toc_section_display": true,
   "toc_window_display": false
  }
 },
 "nbformat": 4,
 "nbformat_minor": 5
}
